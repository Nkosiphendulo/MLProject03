{
 "cells": [
  {
   "cell_type": "code",
   "execution_count": 91,
   "metadata": {},
   "outputs": [
    {
     "name": "stdout",
     "output_type": "stream",
     "text": [
      "Welcome To Our End To End Machine Learning For Group 03 \n"
     ]
    }
   ],
   "source": [
    "print('Welcome To Our End To End Machine Learning For Group 03 ')"
   ]
  },
  {
   "cell_type": "markdown",
   "metadata": {},
   "source": [
    "### Student Performance & Learning Style"
   ]
  },
  {
   "cell_type": "markdown",
   "metadata": {},
   "source": [
    "About Dataset\n",
    "Student Performance & Learning Style Dataset\n",
    "About the Dataset\n",
    "This dataset provides insights into how different study habits, learning styles, and external factors influence student performance. It includes 10,000 records, covering details about students' study hours, online learning participation, exam scores, and other factors impacting academic success.\n",
    "\n",
    "Dataset Features\n",
    "1) Student_ID – Unique identifier for each student\n",
    "2) Age – Student's age (18-30 years)\n",
    "3) Gender – Male, Female, or Other\n",
    "4) Study_Hours_per_Week – Hours spent studying per week (5-50 hours)\n",
    "5) Preferred_Learning_Style – Visual, Auditory, Reading/Writing, Kinesthetic\n",
    "6) Online_Courses_Completed – Number of online courses completed (0-20)\n",
    "7) Participation_in_Discussions – Whether the student actively participates in discussions (Yes/No)\n",
    "8) Assignment_Completion_Rate (%) – Percentage of assignments completed (50%-100%)\n",
    "9) Exam_Score (%) – Student’s final exam score (40%-100%)\n",
    "10) Attendance_Rate (%) – Percentage of classes attended (50%-100%)\n",
    "11) Use_of_Educational_Tech – Whether the student uses educational technology (Yes/No)\n",
    "12) Self_Reported_Stress_Level – Student’s stress level (Low, Medium, High)\n",
    "13)Time_Spent_on_Social_Media (hours/week) – Weekly hours spent on social media (0-30 hours)\n",
    "14) Sleep_Hours_per_Night – Average sleep duration (4-10 hours)\n",
    "15) Final_Grade – Assigned grade based on exam score (A, B, C, D, F)\n",
    "Use Cases\n",
    "Predicting Student Performance – Analyze how different factors influence exam scores.\n",
    "Educational Insights – Understand the impact of study habits, learning styles, and external activities.\n",
    "Machine Learning Applications – Train predictive models for student success."
   ]
  },
  {
   "cell_type": "markdown",
   "metadata": {},
   "source": [
    "### Column Descriptions\n",
    "\n",
    "'''Student_ID – A unique identifier assigned to each student.\n",
    "\n",
    "Age – The age of the student, ranging from 18 to 30 years.\n",
    "\n",
    "Gender – The gender of the student (Male, Female, or Other).\n",
    "\n",
    "Study_Hours_per_Week – The total number of hours a student studies per week, ranging from 5 to 50 hours.\n",
    "\n",
    "Preferred_Learning_Style – The primary learning method a student prefers (Visual, Auditory, Reading/Writing, or Kinesthetic).\n",
    "\n",
    "Online_Courses_Completed – The number of online courses the student has completed, ranging from 0 to 20.\n",
    "\n",
    "Participation_in_Discussions – Whether the student actively participates in academic discussions (Yes or No).\n",
    "\n",
    "Assignment_Completion_Rate (%) – The percentage of assignments completed by the student, ranging from 50% to 100%.\n",
    "\n",
    "Exam_Score (%) – The student's final exam score, ranging from 40% to 100%.\n",
    "\n",
    "Attendance_Rate (%) – The percentage of classes attended by the student, ranging from 50% to 100%."
   ]
  },
  {
   "cell_type": "code",
   "execution_count": 24,
   "metadata": {},
   "outputs": [],
   "source": [
    "import numpy as np\n",
    "import pandas as pd\n",
    "import seaborn as sns\n",
    "from scipy.stats import zscore\n",
    "from scipy.stats import chi2_contingency\n",
    "import matplotlib.pyplot as plt\n",
    "%matplotlib inline\n",
    "import warnings\n",
    "warnings.filterwarnings('ignore')"
   ]
  },
  {
   "cell_type": "code",
   "execution_count": 25,
   "metadata": {},
   "outputs": [],
   "source": [
    "df = pd.read_csv('data/student_performance_large_dataset.csv')"
   ]
  },
  {
   "cell_type": "code",
   "execution_count": 26,
   "metadata": {},
   "outputs": [
    {
     "data": {
      "application/vnd.microsoft.datawrangler.viewer.v0+json": {
       "columns": [
        {
         "name": "index",
         "rawType": "int64",
         "type": "integer"
        },
        {
         "name": "Student_ID",
         "rawType": "object",
         "type": "string"
        },
        {
         "name": "Age",
         "rawType": "int64",
         "type": "integer"
        },
        {
         "name": "Gender",
         "rawType": "object",
         "type": "string"
        },
        {
         "name": "Study_Hours_per_Week",
         "rawType": "int64",
         "type": "integer"
        },
        {
         "name": "Preferred_Learning_Style",
         "rawType": "object",
         "type": "string"
        },
        {
         "name": "Online_Courses_Completed",
         "rawType": "int64",
         "type": "integer"
        },
        {
         "name": "Participation_in_Discussions",
         "rawType": "object",
         "type": "string"
        },
        {
         "name": "Assignment_Completion_Rate (%)",
         "rawType": "int64",
         "type": "integer"
        },
        {
         "name": "Exam_Score (%)",
         "rawType": "int64",
         "type": "integer"
        },
        {
         "name": "Attendance_Rate (%)",
         "rawType": "int64",
         "type": "integer"
        },
        {
         "name": "Use_of_Educational_Tech",
         "rawType": "object",
         "type": "string"
        },
        {
         "name": "Self_Reported_Stress_Level",
         "rawType": "object",
         "type": "string"
        },
        {
         "name": "Time_Spent_on_Social_Media (hours/week)",
         "rawType": "int64",
         "type": "integer"
        },
        {
         "name": "Sleep_Hours_per_Night",
         "rawType": "int64",
         "type": "integer"
        },
        {
         "name": "Final_Grade",
         "rawType": "object",
         "type": "string"
        }
       ],
       "conversionMethod": "pd.DataFrame",
       "ref": "ca75d48d-2f72-4154-93b2-dc360ea749dc",
       "rows": [
        [
         "0",
         "S00001",
         "18",
         "Female",
         "48",
         "Kinesthetic",
         "14",
         "Yes",
         "100",
         "69",
         "66",
         "Yes",
         "High",
         "9",
         "8",
         "C"
        ],
        [
         "1",
         "S00002",
         "29",
         "Female",
         "30",
         "Reading/Writing",
         "20",
         "No",
         "71",
         "40",
         "57",
         "Yes",
         "Medium",
         "28",
         "8",
         "D"
        ],
        [
         "2",
         "S00003",
         "20",
         "Female",
         "47",
         "Kinesthetic",
         "11",
         "No",
         "60",
         "43",
         "79",
         "Yes",
         "Low",
         "13",
         "7",
         "D"
        ],
        [
         "3",
         "S00004",
         "23",
         "Female",
         "13",
         "Auditory",
         "0",
         "Yes",
         "63",
         "70",
         "60",
         "Yes",
         "Low",
         "24",
         "10",
         "B"
        ],
        [
         "4",
         "S00005",
         "19",
         "Female",
         "24",
         "Auditory",
         "19",
         "Yes",
         "59",
         "63",
         "93",
         "Yes",
         "Medium",
         "26",
         "8",
         "C"
        ]
       ],
       "shape": {
        "columns": 15,
        "rows": 5
       }
      },
      "text/html": [
       "<div>\n",
       "<style scoped>\n",
       "    .dataframe tbody tr th:only-of-type {\n",
       "        vertical-align: middle;\n",
       "    }\n",
       "\n",
       "    .dataframe tbody tr th {\n",
       "        vertical-align: top;\n",
       "    }\n",
       "\n",
       "    .dataframe thead th {\n",
       "        text-align: right;\n",
       "    }\n",
       "</style>\n",
       "<table border=\"1\" class=\"dataframe\">\n",
       "  <thead>\n",
       "    <tr style=\"text-align: right;\">\n",
       "      <th></th>\n",
       "      <th>Student_ID</th>\n",
       "      <th>Age</th>\n",
       "      <th>Gender</th>\n",
       "      <th>Study_Hours_per_Week</th>\n",
       "      <th>Preferred_Learning_Style</th>\n",
       "      <th>Online_Courses_Completed</th>\n",
       "      <th>Participation_in_Discussions</th>\n",
       "      <th>Assignment_Completion_Rate (%)</th>\n",
       "      <th>Exam_Score (%)</th>\n",
       "      <th>Attendance_Rate (%)</th>\n",
       "      <th>Use_of_Educational_Tech</th>\n",
       "      <th>Self_Reported_Stress_Level</th>\n",
       "      <th>Time_Spent_on_Social_Media (hours/week)</th>\n",
       "      <th>Sleep_Hours_per_Night</th>\n",
       "      <th>Final_Grade</th>\n",
       "    </tr>\n",
       "  </thead>\n",
       "  <tbody>\n",
       "    <tr>\n",
       "      <th>0</th>\n",
       "      <td>S00001</td>\n",
       "      <td>18</td>\n",
       "      <td>Female</td>\n",
       "      <td>48</td>\n",
       "      <td>Kinesthetic</td>\n",
       "      <td>14</td>\n",
       "      <td>Yes</td>\n",
       "      <td>100</td>\n",
       "      <td>69</td>\n",
       "      <td>66</td>\n",
       "      <td>Yes</td>\n",
       "      <td>High</td>\n",
       "      <td>9</td>\n",
       "      <td>8</td>\n",
       "      <td>C</td>\n",
       "    </tr>\n",
       "    <tr>\n",
       "      <th>1</th>\n",
       "      <td>S00002</td>\n",
       "      <td>29</td>\n",
       "      <td>Female</td>\n",
       "      <td>30</td>\n",
       "      <td>Reading/Writing</td>\n",
       "      <td>20</td>\n",
       "      <td>No</td>\n",
       "      <td>71</td>\n",
       "      <td>40</td>\n",
       "      <td>57</td>\n",
       "      <td>Yes</td>\n",
       "      <td>Medium</td>\n",
       "      <td>28</td>\n",
       "      <td>8</td>\n",
       "      <td>D</td>\n",
       "    </tr>\n",
       "    <tr>\n",
       "      <th>2</th>\n",
       "      <td>S00003</td>\n",
       "      <td>20</td>\n",
       "      <td>Female</td>\n",
       "      <td>47</td>\n",
       "      <td>Kinesthetic</td>\n",
       "      <td>11</td>\n",
       "      <td>No</td>\n",
       "      <td>60</td>\n",
       "      <td>43</td>\n",
       "      <td>79</td>\n",
       "      <td>Yes</td>\n",
       "      <td>Low</td>\n",
       "      <td>13</td>\n",
       "      <td>7</td>\n",
       "      <td>D</td>\n",
       "    </tr>\n",
       "    <tr>\n",
       "      <th>3</th>\n",
       "      <td>S00004</td>\n",
       "      <td>23</td>\n",
       "      <td>Female</td>\n",
       "      <td>13</td>\n",
       "      <td>Auditory</td>\n",
       "      <td>0</td>\n",
       "      <td>Yes</td>\n",
       "      <td>63</td>\n",
       "      <td>70</td>\n",
       "      <td>60</td>\n",
       "      <td>Yes</td>\n",
       "      <td>Low</td>\n",
       "      <td>24</td>\n",
       "      <td>10</td>\n",
       "      <td>B</td>\n",
       "    </tr>\n",
       "    <tr>\n",
       "      <th>4</th>\n",
       "      <td>S00005</td>\n",
       "      <td>19</td>\n",
       "      <td>Female</td>\n",
       "      <td>24</td>\n",
       "      <td>Auditory</td>\n",
       "      <td>19</td>\n",
       "      <td>Yes</td>\n",
       "      <td>59</td>\n",
       "      <td>63</td>\n",
       "      <td>93</td>\n",
       "      <td>Yes</td>\n",
       "      <td>Medium</td>\n",
       "      <td>26</td>\n",
       "      <td>8</td>\n",
       "      <td>C</td>\n",
       "    </tr>\n",
       "  </tbody>\n",
       "</table>\n",
       "</div>"
      ],
      "text/plain": [
       "  Student_ID  Age  Gender  Study_Hours_per_Week Preferred_Learning_Style  \\\n",
       "0     S00001   18  Female                    48              Kinesthetic   \n",
       "1     S00002   29  Female                    30          Reading/Writing   \n",
       "2     S00003   20  Female                    47              Kinesthetic   \n",
       "3     S00004   23  Female                    13                 Auditory   \n",
       "4     S00005   19  Female                    24                 Auditory   \n",
       "\n",
       "   Online_Courses_Completed Participation_in_Discussions  \\\n",
       "0                        14                          Yes   \n",
       "1                        20                           No   \n",
       "2                        11                           No   \n",
       "3                         0                          Yes   \n",
       "4                        19                          Yes   \n",
       "\n",
       "   Assignment_Completion_Rate (%)  Exam_Score (%)  Attendance_Rate (%)  \\\n",
       "0                             100              69                   66   \n",
       "1                              71              40                   57   \n",
       "2                              60              43                   79   \n",
       "3                              63              70                   60   \n",
       "4                              59              63                   93   \n",
       "\n",
       "  Use_of_Educational_Tech Self_Reported_Stress_Level  \\\n",
       "0                     Yes                       High   \n",
       "1                     Yes                     Medium   \n",
       "2                     Yes                        Low   \n",
       "3                     Yes                        Low   \n",
       "4                     Yes                     Medium   \n",
       "\n",
       "   Time_Spent_on_Social_Media (hours/week)  Sleep_Hours_per_Night Final_Grade  \n",
       "0                                        9                      8           C  \n",
       "1                                       28                      8           D  \n",
       "2                                       13                      7           D  \n",
       "3                                       24                     10           B  \n",
       "4                                       26                      8           C  "
      ]
     },
     "execution_count": 26,
     "metadata": {},
     "output_type": "execute_result"
    }
   ],
   "source": [
    "df.head()"
   ]
  },
  {
   "cell_type": "code",
   "execution_count": 27,
   "metadata": {},
   "outputs": [
    {
     "data": {
      "text/plain": [
       "(10000, 15)"
      ]
     },
     "execution_count": 27,
     "metadata": {},
     "output_type": "execute_result"
    }
   ],
   "source": [
    "df.shape"
   ]
  },
  {
   "cell_type": "code",
   "execution_count": 28,
   "metadata": {},
   "outputs": [
    {
     "data": {
      "text/plain": [
       "Student_ID                                 0\n",
       "Age                                        0\n",
       "Gender                                     0\n",
       "Study_Hours_per_Week                       0\n",
       "Preferred_Learning_Style                   0\n",
       "Online_Courses_Completed                   0\n",
       "Participation_in_Discussions               0\n",
       "Assignment_Completion_Rate (%)             0\n",
       "Exam_Score (%)                             0\n",
       "Attendance_Rate (%)                        0\n",
       "Use_of_Educational_Tech                    0\n",
       "Self_Reported_Stress_Level                 0\n",
       "Time_Spent_on_Social_Media (hours/week)    0\n",
       "Sleep_Hours_per_Night                      0\n",
       "Final_Grade                                0\n",
       "dtype: int64"
      ]
     },
     "execution_count": 28,
     "metadata": {},
     "output_type": "execute_result"
    }
   ],
   "source": [
    "df.isna().sum()"
   ]
  },
  {
   "cell_type": "code",
   "execution_count": 29,
   "metadata": {},
   "outputs": [
    {
     "data": {
      "text/plain": [
       "0"
      ]
     },
     "execution_count": 29,
     "metadata": {},
     "output_type": "execute_result"
    }
   ],
   "source": [
    "df.duplicated().sum()"
   ]
  },
  {
   "cell_type": "code",
   "execution_count": 30,
   "metadata": {},
   "outputs": [
    {
     "name": "stdout",
     "output_type": "stream",
     "text": [
      "<class 'pandas.core.frame.DataFrame'>\n",
      "RangeIndex: 10000 entries, 0 to 9999\n",
      "Data columns (total 15 columns):\n",
      " #   Column                                   Non-Null Count  Dtype \n",
      "---  ------                                   --------------  ----- \n",
      " 0   Student_ID                               10000 non-null  object\n",
      " 1   Age                                      10000 non-null  int64 \n",
      " 2   Gender                                   10000 non-null  object\n",
      " 3   Study_Hours_per_Week                     10000 non-null  int64 \n",
      " 4   Preferred_Learning_Style                 10000 non-null  object\n",
      " 5   Online_Courses_Completed                 10000 non-null  int64 \n",
      " 6   Participation_in_Discussions             10000 non-null  object\n",
      " 7   Assignment_Completion_Rate (%)           10000 non-null  int64 \n",
      " 8   Exam_Score (%)                           10000 non-null  int64 \n",
      " 9   Attendance_Rate (%)                      10000 non-null  int64 \n",
      " 10  Use_of_Educational_Tech                  10000 non-null  object\n",
      " 11  Self_Reported_Stress_Level               10000 non-null  object\n",
      " 12  Time_Spent_on_Social_Media (hours/week)  10000 non-null  int64 \n",
      " 13  Sleep_Hours_per_Night                    10000 non-null  int64 \n",
      " 14  Final_Grade                              10000 non-null  object\n",
      "dtypes: int64(8), object(7)\n",
      "memory usage: 1.1+ MB\n"
     ]
    }
   ],
   "source": [
    "# Check Null and Dtypes\n",
    "df.info()"
   ]
  },
  {
   "cell_type": "code",
   "execution_count": 31,
   "metadata": {},
   "outputs": [
    {
     "data": {
      "application/vnd.microsoft.datawrangler.viewer.v0+json": {
       "columns": [
        {
         "name": "index",
         "rawType": "object",
         "type": "string"
        },
        {
         "name": "Student_ID",
         "rawType": "object",
         "type": "unknown"
        },
        {
         "name": "Age",
         "rawType": "float64",
         "type": "float"
        },
        {
         "name": "Gender",
         "rawType": "object",
         "type": "unknown"
        },
        {
         "name": "Study_Hours_per_Week",
         "rawType": "float64",
         "type": "float"
        },
        {
         "name": "Preferred_Learning_Style",
         "rawType": "object",
         "type": "unknown"
        },
        {
         "name": "Online_Courses_Completed",
         "rawType": "float64",
         "type": "float"
        },
        {
         "name": "Participation_in_Discussions",
         "rawType": "object",
         "type": "unknown"
        },
        {
         "name": "Assignment_Completion_Rate (%)",
         "rawType": "float64",
         "type": "float"
        },
        {
         "name": "Exam_Score (%)",
         "rawType": "float64",
         "type": "float"
        },
        {
         "name": "Attendance_Rate (%)",
         "rawType": "float64",
         "type": "float"
        },
        {
         "name": "Use_of_Educational_Tech",
         "rawType": "object",
         "type": "unknown"
        },
        {
         "name": "Self_Reported_Stress_Level",
         "rawType": "object",
         "type": "unknown"
        },
        {
         "name": "Time_Spent_on_Social_Media (hours/week)",
         "rawType": "float64",
         "type": "float"
        },
        {
         "name": "Sleep_Hours_per_Night",
         "rawType": "float64",
         "type": "float"
        },
        {
         "name": "Final_Grade",
         "rawType": "object",
         "type": "unknown"
        }
       ],
       "conversionMethod": "pd.DataFrame",
       "ref": "30847a63-c369-4267-8a64-bb45211e3998",
       "rows": [
        [
         "count",
         "10000",
         "10000.0",
         "10000",
         "10000.0",
         "10000",
         "10000.0",
         "10000",
         "10000.0",
         "10000.0",
         "10000.0",
         "10000",
         "10000",
         "10000.0",
         "10000.0",
         "10000"
        ],
        [
         "unique",
         "10000",
         null,
         "3",
         null,
         "4",
         null,
         "2",
         null,
         null,
         null,
         "2",
         "3",
         null,
         null,
         "4"
        ],
        [
         "top",
         "S00001",
         null,
         "Female",
         null,
         "Visual",
         null,
         "Yes",
         null,
         null,
         null,
         "Yes",
         "Medium",
         null,
         null,
         "A"
        ],
        [
         "freq",
         "1",
         null,
         "4846",
         null,
         "2523",
         null,
         "5996",
         null,
         null,
         null,
         "7022",
         "5015",
         null,
         null,
         "2678"
        ],
        [
         "mean",
         null,
         "23.4788",
         null,
         "27.1303",
         null,
         "10.0079",
         null,
         "74.922",
         "70.1889",
         "75.0851",
         null,
         null,
         "14.9365",
         "6.9793",
         null
        ],
        [
         "std",
         null,
         "3.4619862932873153",
         null,
         "13.002547001755305",
         null,
         "6.136725798856708",
         null,
         "14.67543705806698",
         "17.649446651006055",
         "14.749251236290029",
         null,
         null,
         "9.022638668973405",
         "1.9969652718637008",
         null
        ],
        [
         "min",
         null,
         "18.0",
         null,
         "5.0",
         null,
         "0.0",
         null,
         "50.0",
         "40.0",
         "50.0",
         null,
         null,
         "0.0",
         "4.0",
         null
        ],
        [
         "25%",
         null,
         "20.0",
         null,
         "16.0",
         null,
         "5.0",
         null,
         "62.0",
         "55.0",
         "62.0",
         null,
         null,
         "7.0",
         "5.0",
         null
        ],
        [
         "50%",
         null,
         "23.0",
         null,
         "27.0",
         null,
         "10.0",
         null,
         "75.0",
         "70.0",
         "75.0",
         null,
         null,
         "15.0",
         "7.0",
         null
        ],
        [
         "75%",
         null,
         "27.0",
         null,
         "38.0",
         null,
         "15.0",
         null,
         "88.0",
         "85.0",
         "88.0",
         null,
         null,
         "23.0",
         "9.0",
         null
        ],
        [
         "max",
         null,
         "29.0",
         null,
         "49.0",
         null,
         "20.0",
         null,
         "100.0",
         "100.0",
         "100.0",
         null,
         null,
         "30.0",
         "10.0",
         null
        ]
       ],
       "shape": {
        "columns": 15,
        "rows": 11
       }
      },
      "text/html": [
       "<div>\n",
       "<style scoped>\n",
       "    .dataframe tbody tr th:only-of-type {\n",
       "        vertical-align: middle;\n",
       "    }\n",
       "\n",
       "    .dataframe tbody tr th {\n",
       "        vertical-align: top;\n",
       "    }\n",
       "\n",
       "    .dataframe thead th {\n",
       "        text-align: right;\n",
       "    }\n",
       "</style>\n",
       "<table border=\"1\" class=\"dataframe\">\n",
       "  <thead>\n",
       "    <tr style=\"text-align: right;\">\n",
       "      <th></th>\n",
       "      <th>Student_ID</th>\n",
       "      <th>Age</th>\n",
       "      <th>Gender</th>\n",
       "      <th>Study_Hours_per_Week</th>\n",
       "      <th>Preferred_Learning_Style</th>\n",
       "      <th>Online_Courses_Completed</th>\n",
       "      <th>Participation_in_Discussions</th>\n",
       "      <th>Assignment_Completion_Rate (%)</th>\n",
       "      <th>Exam_Score (%)</th>\n",
       "      <th>Attendance_Rate (%)</th>\n",
       "      <th>Use_of_Educational_Tech</th>\n",
       "      <th>Self_Reported_Stress_Level</th>\n",
       "      <th>Time_Spent_on_Social_Media (hours/week)</th>\n",
       "      <th>Sleep_Hours_per_Night</th>\n",
       "      <th>Final_Grade</th>\n",
       "    </tr>\n",
       "  </thead>\n",
       "  <tbody>\n",
       "    <tr>\n",
       "      <th>count</th>\n",
       "      <td>10000</td>\n",
       "      <td>10000.000000</td>\n",
       "      <td>10000</td>\n",
       "      <td>10000.000000</td>\n",
       "      <td>10000</td>\n",
       "      <td>10000.000000</td>\n",
       "      <td>10000</td>\n",
       "      <td>10000.000000</td>\n",
       "      <td>10000.000000</td>\n",
       "      <td>10000.000000</td>\n",
       "      <td>10000</td>\n",
       "      <td>10000</td>\n",
       "      <td>10000.000000</td>\n",
       "      <td>10000.000000</td>\n",
       "      <td>10000</td>\n",
       "    </tr>\n",
       "    <tr>\n",
       "      <th>unique</th>\n",
       "      <td>10000</td>\n",
       "      <td>NaN</td>\n",
       "      <td>3</td>\n",
       "      <td>NaN</td>\n",
       "      <td>4</td>\n",
       "      <td>NaN</td>\n",
       "      <td>2</td>\n",
       "      <td>NaN</td>\n",
       "      <td>NaN</td>\n",
       "      <td>NaN</td>\n",
       "      <td>2</td>\n",
       "      <td>3</td>\n",
       "      <td>NaN</td>\n",
       "      <td>NaN</td>\n",
       "      <td>4</td>\n",
       "    </tr>\n",
       "    <tr>\n",
       "      <th>top</th>\n",
       "      <td>S00001</td>\n",
       "      <td>NaN</td>\n",
       "      <td>Female</td>\n",
       "      <td>NaN</td>\n",
       "      <td>Visual</td>\n",
       "      <td>NaN</td>\n",
       "      <td>Yes</td>\n",
       "      <td>NaN</td>\n",
       "      <td>NaN</td>\n",
       "      <td>NaN</td>\n",
       "      <td>Yes</td>\n",
       "      <td>Medium</td>\n",
       "      <td>NaN</td>\n",
       "      <td>NaN</td>\n",
       "      <td>A</td>\n",
       "    </tr>\n",
       "    <tr>\n",
       "      <th>freq</th>\n",
       "      <td>1</td>\n",
       "      <td>NaN</td>\n",
       "      <td>4846</td>\n",
       "      <td>NaN</td>\n",
       "      <td>2523</td>\n",
       "      <td>NaN</td>\n",
       "      <td>5996</td>\n",
       "      <td>NaN</td>\n",
       "      <td>NaN</td>\n",
       "      <td>NaN</td>\n",
       "      <td>7022</td>\n",
       "      <td>5015</td>\n",
       "      <td>NaN</td>\n",
       "      <td>NaN</td>\n",
       "      <td>2678</td>\n",
       "    </tr>\n",
       "    <tr>\n",
       "      <th>mean</th>\n",
       "      <td>NaN</td>\n",
       "      <td>23.478800</td>\n",
       "      <td>NaN</td>\n",
       "      <td>27.130300</td>\n",
       "      <td>NaN</td>\n",
       "      <td>10.007900</td>\n",
       "      <td>NaN</td>\n",
       "      <td>74.922000</td>\n",
       "      <td>70.188900</td>\n",
       "      <td>75.085100</td>\n",
       "      <td>NaN</td>\n",
       "      <td>NaN</td>\n",
       "      <td>14.936500</td>\n",
       "      <td>6.979300</td>\n",
       "      <td>NaN</td>\n",
       "    </tr>\n",
       "    <tr>\n",
       "      <th>std</th>\n",
       "      <td>NaN</td>\n",
       "      <td>3.461986</td>\n",
       "      <td>NaN</td>\n",
       "      <td>13.002547</td>\n",
       "      <td>NaN</td>\n",
       "      <td>6.136726</td>\n",
       "      <td>NaN</td>\n",
       "      <td>14.675437</td>\n",
       "      <td>17.649447</td>\n",
       "      <td>14.749251</td>\n",
       "      <td>NaN</td>\n",
       "      <td>NaN</td>\n",
       "      <td>9.022639</td>\n",
       "      <td>1.996965</td>\n",
       "      <td>NaN</td>\n",
       "    </tr>\n",
       "    <tr>\n",
       "      <th>min</th>\n",
       "      <td>NaN</td>\n",
       "      <td>18.000000</td>\n",
       "      <td>NaN</td>\n",
       "      <td>5.000000</td>\n",
       "      <td>NaN</td>\n",
       "      <td>0.000000</td>\n",
       "      <td>NaN</td>\n",
       "      <td>50.000000</td>\n",
       "      <td>40.000000</td>\n",
       "      <td>50.000000</td>\n",
       "      <td>NaN</td>\n",
       "      <td>NaN</td>\n",
       "      <td>0.000000</td>\n",
       "      <td>4.000000</td>\n",
       "      <td>NaN</td>\n",
       "    </tr>\n",
       "    <tr>\n",
       "      <th>25%</th>\n",
       "      <td>NaN</td>\n",
       "      <td>20.000000</td>\n",
       "      <td>NaN</td>\n",
       "      <td>16.000000</td>\n",
       "      <td>NaN</td>\n",
       "      <td>5.000000</td>\n",
       "      <td>NaN</td>\n",
       "      <td>62.000000</td>\n",
       "      <td>55.000000</td>\n",
       "      <td>62.000000</td>\n",
       "      <td>NaN</td>\n",
       "      <td>NaN</td>\n",
       "      <td>7.000000</td>\n",
       "      <td>5.000000</td>\n",
       "      <td>NaN</td>\n",
       "    </tr>\n",
       "    <tr>\n",
       "      <th>50%</th>\n",
       "      <td>NaN</td>\n",
       "      <td>23.000000</td>\n",
       "      <td>NaN</td>\n",
       "      <td>27.000000</td>\n",
       "      <td>NaN</td>\n",
       "      <td>10.000000</td>\n",
       "      <td>NaN</td>\n",
       "      <td>75.000000</td>\n",
       "      <td>70.000000</td>\n",
       "      <td>75.000000</td>\n",
       "      <td>NaN</td>\n",
       "      <td>NaN</td>\n",
       "      <td>15.000000</td>\n",
       "      <td>7.000000</td>\n",
       "      <td>NaN</td>\n",
       "    </tr>\n",
       "    <tr>\n",
       "      <th>75%</th>\n",
       "      <td>NaN</td>\n",
       "      <td>27.000000</td>\n",
       "      <td>NaN</td>\n",
       "      <td>38.000000</td>\n",
       "      <td>NaN</td>\n",
       "      <td>15.000000</td>\n",
       "      <td>NaN</td>\n",
       "      <td>88.000000</td>\n",
       "      <td>85.000000</td>\n",
       "      <td>88.000000</td>\n",
       "      <td>NaN</td>\n",
       "      <td>NaN</td>\n",
       "      <td>23.000000</td>\n",
       "      <td>9.000000</td>\n",
       "      <td>NaN</td>\n",
       "    </tr>\n",
       "    <tr>\n",
       "      <th>max</th>\n",
       "      <td>NaN</td>\n",
       "      <td>29.000000</td>\n",
       "      <td>NaN</td>\n",
       "      <td>49.000000</td>\n",
       "      <td>NaN</td>\n",
       "      <td>20.000000</td>\n",
       "      <td>NaN</td>\n",
       "      <td>100.000000</td>\n",
       "      <td>100.000000</td>\n",
       "      <td>100.000000</td>\n",
       "      <td>NaN</td>\n",
       "      <td>NaN</td>\n",
       "      <td>30.000000</td>\n",
       "      <td>10.000000</td>\n",
       "      <td>NaN</td>\n",
       "    </tr>\n",
       "  </tbody>\n",
       "</table>\n",
       "</div>"
      ],
      "text/plain": [
       "       Student_ID           Age  Gender  Study_Hours_per_Week  \\\n",
       "count       10000  10000.000000   10000          10000.000000   \n",
       "unique      10000           NaN       3                   NaN   \n",
       "top        S00001           NaN  Female                   NaN   \n",
       "freq            1           NaN    4846                   NaN   \n",
       "mean          NaN     23.478800     NaN             27.130300   \n",
       "std           NaN      3.461986     NaN             13.002547   \n",
       "min           NaN     18.000000     NaN              5.000000   \n",
       "25%           NaN     20.000000     NaN             16.000000   \n",
       "50%           NaN     23.000000     NaN             27.000000   \n",
       "75%           NaN     27.000000     NaN             38.000000   \n",
       "max           NaN     29.000000     NaN             49.000000   \n",
       "\n",
       "       Preferred_Learning_Style  Online_Courses_Completed  \\\n",
       "count                     10000              10000.000000   \n",
       "unique                        4                       NaN   \n",
       "top                      Visual                       NaN   \n",
       "freq                       2523                       NaN   \n",
       "mean                        NaN                 10.007900   \n",
       "std                         NaN                  6.136726   \n",
       "min                         NaN                  0.000000   \n",
       "25%                         NaN                  5.000000   \n",
       "50%                         NaN                 10.000000   \n",
       "75%                         NaN                 15.000000   \n",
       "max                         NaN                 20.000000   \n",
       "\n",
       "       Participation_in_Discussions  Assignment_Completion_Rate (%)  \\\n",
       "count                         10000                    10000.000000   \n",
       "unique                            2                             NaN   \n",
       "top                             Yes                             NaN   \n",
       "freq                           5996                             NaN   \n",
       "mean                            NaN                       74.922000   \n",
       "std                             NaN                       14.675437   \n",
       "min                             NaN                       50.000000   \n",
       "25%                             NaN                       62.000000   \n",
       "50%                             NaN                       75.000000   \n",
       "75%                             NaN                       88.000000   \n",
       "max                             NaN                      100.000000   \n",
       "\n",
       "        Exam_Score (%)  Attendance_Rate (%) Use_of_Educational_Tech  \\\n",
       "count     10000.000000         10000.000000                   10000   \n",
       "unique             NaN                  NaN                       2   \n",
       "top                NaN                  NaN                     Yes   \n",
       "freq               NaN                  NaN                    7022   \n",
       "mean         70.188900            75.085100                     NaN   \n",
       "std          17.649447            14.749251                     NaN   \n",
       "min          40.000000            50.000000                     NaN   \n",
       "25%          55.000000            62.000000                     NaN   \n",
       "50%          70.000000            75.000000                     NaN   \n",
       "75%          85.000000            88.000000                     NaN   \n",
       "max         100.000000           100.000000                     NaN   \n",
       "\n",
       "       Self_Reported_Stress_Level  Time_Spent_on_Social_Media (hours/week)  \\\n",
       "count                       10000                             10000.000000   \n",
       "unique                          3                                      NaN   \n",
       "top                        Medium                                      NaN   \n",
       "freq                         5015                                      NaN   \n",
       "mean                          NaN                                14.936500   \n",
       "std                           NaN                                 9.022639   \n",
       "min                           NaN                                 0.000000   \n",
       "25%                           NaN                                 7.000000   \n",
       "50%                           NaN                                15.000000   \n",
       "75%                           NaN                                23.000000   \n",
       "max                           NaN                                30.000000   \n",
       "\n",
       "        Sleep_Hours_per_Night Final_Grade  \n",
       "count            10000.000000       10000  \n",
       "unique                    NaN           4  \n",
       "top                       NaN           A  \n",
       "freq                      NaN        2678  \n",
       "mean                 6.979300         NaN  \n",
       "std                  1.996965         NaN  \n",
       "min                  4.000000         NaN  \n",
       "25%                  5.000000         NaN  \n",
       "50%                  7.000000         NaN  \n",
       "75%                  9.000000         NaN  \n",
       "max                 10.000000         NaN  "
      ]
     },
     "execution_count": 31,
     "metadata": {},
     "output_type": "execute_result"
    }
   ],
   "source": [
    "df.describe(include='all')"
   ]
  },
  {
   "cell_type": "code",
   "execution_count": 32,
   "metadata": {},
   "outputs": [
    {
     "data": {
      "text/plain": [
       "Student_ID                                 10000\n",
       "Age                                           12\n",
       "Gender                                         3\n",
       "Study_Hours_per_Week                          45\n",
       "Preferred_Learning_Style                       4\n",
       "Online_Courses_Completed                      21\n",
       "Participation_in_Discussions                   2\n",
       "Assignment_Completion_Rate (%)                51\n",
       "Exam_Score (%)                                61\n",
       "Attendance_Rate (%)                           51\n",
       "Use_of_Educational_Tech                        2\n",
       "Self_Reported_Stress_Level                     3\n",
       "Time_Spent_on_Social_Media (hours/week)       31\n",
       "Sleep_Hours_per_Night                          7\n",
       "Final_Grade                                    4\n",
       "dtype: int64"
      ]
     },
     "execution_count": 32,
     "metadata": {},
     "output_type": "execute_result"
    }
   ],
   "source": [
    "df.nunique()\n"
   ]
  },
  {
   "cell_type": "code",
   "execution_count": 33,
   "metadata": {},
   "outputs": [
    {
     "data": {
      "text/plain": [
       "Index(['Student_ID', 'Age', 'Gender', 'Study_Hours_per_Week',\n",
       "       'Preferred_Learning_Style', 'Online_Courses_Completed',\n",
       "       'Participation_in_Discussions', 'Assignment_Completion_Rate (%)',\n",
       "       'Exam_Score (%)', 'Attendance_Rate (%)', 'Use_of_Educational_Tech',\n",
       "       'Self_Reported_Stress_Level', 'Time_Spent_on_Social_Media (hours/week)',\n",
       "       'Sleep_Hours_per_Night', 'Final_Grade'],\n",
       "      dtype='object')"
      ]
     },
     "execution_count": 33,
     "metadata": {},
     "output_type": "execute_result"
    }
   ],
   "source": [
    "df.columns"
   ]
  },
  {
   "cell_type": "code",
   "execution_count": 34,
   "metadata": {},
   "outputs": [],
   "source": [
    "df = df.drop(columns=['Student_ID'])"
   ]
  },
  {
   "cell_type": "code",
   "execution_count": 35,
   "metadata": {},
   "outputs": [],
   "source": [
    "numerical_df = df.select_dtypes(include=['number'])\n",
    "\n",
    "### Separate categorical columns\n",
    "categorical_df = df.select_dtypes(include=['object'])"
   ]
  },
  {
   "cell_type": "markdown",
   "metadata": {},
   "source": [
    "### Descriptive Analysis"
   ]
  },
  {
   "cell_type": "code",
   "execution_count": 36,
   "metadata": {},
   "outputs": [
    {
     "data": {
      "application/vnd.microsoft.datawrangler.viewer.v0+json": {
       "columns": [
        {
         "name": "index",
         "rawType": "int64",
         "type": "integer"
        },
        {
         "name": "Age",
         "rawType": "int64",
         "type": "integer"
        },
        {
         "name": "Study_Hours_per_Week",
         "rawType": "int64",
         "type": "integer"
        },
        {
         "name": "Online_Courses_Completed",
         "rawType": "int64",
         "type": "integer"
        },
        {
         "name": "Assignment_Completion_Rate (%)",
         "rawType": "int64",
         "type": "integer"
        },
        {
         "name": "Exam_Score (%)",
         "rawType": "int64",
         "type": "integer"
        },
        {
         "name": "Attendance_Rate (%)",
         "rawType": "int64",
         "type": "integer"
        },
        {
         "name": "Time_Spent_on_Social_Media (hours/week)",
         "rawType": "int64",
         "type": "integer"
        },
        {
         "name": "Sleep_Hours_per_Night",
         "rawType": "int64",
         "type": "integer"
        }
       ],
       "conversionMethod": "pd.DataFrame",
       "ref": "16fa1711-96bb-4e3f-b9b5-12baa15b809d",
       "rows": [
        [
         "0",
         "18",
         "48",
         "14",
         "100",
         "69",
         "66",
         "9",
         "8"
        ],
        [
         "1",
         "29",
         "30",
         "20",
         "71",
         "40",
         "57",
         "28",
         "8"
        ],
        [
         "2",
         "20",
         "47",
         "11",
         "60",
         "43",
         "79",
         "13",
         "7"
        ],
        [
         "3",
         "23",
         "13",
         "0",
         "63",
         "70",
         "60",
         "24",
         "10"
        ],
        [
         "4",
         "19",
         "24",
         "19",
         "59",
         "63",
         "93",
         "26",
         "8"
        ],
        [
         "5",
         "28",
         "26",
         "5",
         "63",
         "54",
         "80",
         "25",
         "8"
        ],
        [
         "6",
         "19",
         "49",
         "13",
         "91",
         "44",
         "66",
         "30",
         "10"
        ],
        [
         "7",
         "27",
         "14",
         "5",
         "88",
         "56",
         "76",
         "4",
         "6"
        ],
        [
         "8",
         "22",
         "45",
         "16",
         "52",
         "78",
         "70",
         "26",
         "9"
        ],
        [
         "9",
         "28",
         "35",
         "7",
         "100",
         "55",
         "100",
         "5",
         "9"
        ],
        [
         "10",
         "23",
         "40",
         "20",
         "74",
         "44",
         "93",
         "15",
         "10"
        ],
        [
         "11",
         "23",
         "14",
         "18",
         "77",
         "56",
         "74",
         "9",
         "6"
        ],
        [
         "12",
         "23",
         "24",
         "4",
         "67",
         "73",
         "93",
         "28",
         "7"
        ],
        [
         "13",
         "27",
         "44",
         "20",
         "80",
         "60",
         "51",
         "27",
         "6"
        ],
        [
         "14",
         "22",
         "10",
         "17",
         "67",
         "71",
         "55",
         "28",
         "8"
        ],
        [
         "15",
         "25",
         "28",
         "13",
         "85",
         "90",
         "76",
         "5",
         "8"
        ],
        [
         "16",
         "19",
         "11",
         "20",
         "81",
         "93",
         "93",
         "6",
         "9"
        ],
        [
         "17",
         "18",
         "8",
         "9",
         "52",
         "97",
         "69",
         "1",
         "5"
        ],
        [
         "18",
         "22",
         "11",
         "11",
         "50",
         "74",
         "96",
         "13",
         "7"
        ],
        [
         "19",
         "19",
         "28",
         "19",
         "50",
         "64",
         "80",
         "20",
         "8"
        ],
        [
         "20",
         "19",
         "30",
         "0",
         "89",
         "97",
         "90",
         "26",
         "10"
        ],
        [
         "21",
         "20",
         "48",
         "16",
         "81",
         "76",
         "82",
         "29",
         "9"
        ],
        [
         "22",
         "18",
         "14",
         "4",
         "90",
         "75",
         "73",
         "12",
         "9"
        ],
        [
         "23",
         "25",
         "41",
         "6",
         "68",
         "93",
         "100",
         "23",
         "7"
        ],
        [
         "24",
         "25",
         "36",
         "3",
         "96",
         "83",
         "66",
         "8",
         "7"
        ],
        [
         "25",
         "22",
         "38",
         "7",
         "91",
         "61",
         "50",
         "19",
         "10"
        ],
        [
         "26",
         "19",
         "48",
         "1",
         "86",
         "52",
         "86",
         "30",
         "9"
        ],
        [
         "27",
         "19",
         "40",
         "16",
         "100",
         "63",
         "74",
         "29",
         "7"
        ],
        [
         "28",
         "24",
         "39",
         "9",
         "79",
         "90",
         "91",
         "21",
         "6"
        ],
        [
         "29",
         "29",
         "39",
         "5",
         "76",
         "41",
         "79",
         "20",
         "5"
        ],
        [
         "30",
         "20",
         "23",
         "3",
         "59",
         "57",
         "81",
         "9",
         "5"
        ],
        [
         "31",
         "22",
         "6",
         "18",
         "85",
         "80",
         "76",
         "16",
         "7"
        ],
        [
         "32",
         "23",
         "25",
         "12",
         "55",
         "63",
         "85",
         "14",
         "4"
        ],
        [
         "33",
         "25",
         "6",
         "10",
         "96",
         "100",
         "71",
         "2",
         "7"
        ],
        [
         "34",
         "28",
         "32",
         "5",
         "53",
         "54",
         "96",
         "0",
         "10"
        ],
        [
         "35",
         "19",
         "41",
         "12",
         "57",
         "60",
         "67",
         "15",
         "5"
        ],
        [
         "36",
         "26",
         "26",
         "3",
         "53",
         "48",
         "76",
         "19",
         "4"
        ],
        [
         "37",
         "20",
         "11",
         "3",
         "58",
         "73",
         "62",
         "22",
         "7"
        ],
        [
         "38",
         "21",
         "20",
         "1",
         "64",
         "99",
         "62",
         "2",
         "4"
        ],
        [
         "39",
         "24",
         "12",
         "8",
         "98",
         "65",
         "58",
         "0",
         "5"
        ],
        [
         "40",
         "27",
         "41",
         "14",
         "65",
         "56",
         "74",
         "26",
         "9"
        ],
        [
         "41",
         "28",
         "46",
         "8",
         "77",
         "51",
         "88",
         "23",
         "5"
        ],
        [
         "42",
         "25",
         "24",
         "19",
         "90",
         "93",
         "54",
         "17",
         "9"
        ],
        [
         "43",
         "22",
         "38",
         "5",
         "96",
         "54",
         "92",
         "16",
         "5"
        ],
        [
         "44",
         "20",
         "45",
         "9",
         "78",
         "42",
         "58",
         "24",
         "8"
        ],
        [
         "45",
         "28",
         "6",
         "13",
         "81",
         "92",
         "90",
         "6",
         "10"
        ],
        [
         "46",
         "26",
         "23",
         "10",
         "94",
         "42",
         "65",
         "11",
         "6"
        ],
        [
         "47",
         "25",
         "35",
         "16",
         "50",
         "83",
         "88",
         "8",
         "4"
        ],
        [
         "48",
         "19",
         "12",
         "5",
         "50",
         "78",
         "66",
         "0",
         "8"
        ],
        [
         "49",
         "25",
         "38",
         "6",
         "88",
         "76",
         "100",
         "12",
         "9"
        ]
       ],
       "shape": {
        "columns": 8,
        "rows": 10000
       }
      },
      "text/html": [
       "<div>\n",
       "<style scoped>\n",
       "    .dataframe tbody tr th:only-of-type {\n",
       "        vertical-align: middle;\n",
       "    }\n",
       "\n",
       "    .dataframe tbody tr th {\n",
       "        vertical-align: top;\n",
       "    }\n",
       "\n",
       "    .dataframe thead th {\n",
       "        text-align: right;\n",
       "    }\n",
       "</style>\n",
       "<table border=\"1\" class=\"dataframe\">\n",
       "  <thead>\n",
       "    <tr style=\"text-align: right;\">\n",
       "      <th></th>\n",
       "      <th>Age</th>\n",
       "      <th>Study_Hours_per_Week</th>\n",
       "      <th>Online_Courses_Completed</th>\n",
       "      <th>Assignment_Completion_Rate (%)</th>\n",
       "      <th>Exam_Score (%)</th>\n",
       "      <th>Attendance_Rate (%)</th>\n",
       "      <th>Time_Spent_on_Social_Media (hours/week)</th>\n",
       "      <th>Sleep_Hours_per_Night</th>\n",
       "    </tr>\n",
       "  </thead>\n",
       "  <tbody>\n",
       "    <tr>\n",
       "      <th>0</th>\n",
       "      <td>18</td>\n",
       "      <td>48</td>\n",
       "      <td>14</td>\n",
       "      <td>100</td>\n",
       "      <td>69</td>\n",
       "      <td>66</td>\n",
       "      <td>9</td>\n",
       "      <td>8</td>\n",
       "    </tr>\n",
       "    <tr>\n",
       "      <th>1</th>\n",
       "      <td>29</td>\n",
       "      <td>30</td>\n",
       "      <td>20</td>\n",
       "      <td>71</td>\n",
       "      <td>40</td>\n",
       "      <td>57</td>\n",
       "      <td>28</td>\n",
       "      <td>8</td>\n",
       "    </tr>\n",
       "    <tr>\n",
       "      <th>2</th>\n",
       "      <td>20</td>\n",
       "      <td>47</td>\n",
       "      <td>11</td>\n",
       "      <td>60</td>\n",
       "      <td>43</td>\n",
       "      <td>79</td>\n",
       "      <td>13</td>\n",
       "      <td>7</td>\n",
       "    </tr>\n",
       "    <tr>\n",
       "      <th>3</th>\n",
       "      <td>23</td>\n",
       "      <td>13</td>\n",
       "      <td>0</td>\n",
       "      <td>63</td>\n",
       "      <td>70</td>\n",
       "      <td>60</td>\n",
       "      <td>24</td>\n",
       "      <td>10</td>\n",
       "    </tr>\n",
       "    <tr>\n",
       "      <th>4</th>\n",
       "      <td>19</td>\n",
       "      <td>24</td>\n",
       "      <td>19</td>\n",
       "      <td>59</td>\n",
       "      <td>63</td>\n",
       "      <td>93</td>\n",
       "      <td>26</td>\n",
       "      <td>8</td>\n",
       "    </tr>\n",
       "    <tr>\n",
       "      <th>...</th>\n",
       "      <td>...</td>\n",
       "      <td>...</td>\n",
       "      <td>...</td>\n",
       "      <td>...</td>\n",
       "      <td>...</td>\n",
       "      <td>...</td>\n",
       "      <td>...</td>\n",
       "      <td>...</td>\n",
       "    </tr>\n",
       "    <tr>\n",
       "      <th>9995</th>\n",
       "      <td>20</td>\n",
       "      <td>30</td>\n",
       "      <td>6</td>\n",
       "      <td>62</td>\n",
       "      <td>58</td>\n",
       "      <td>76</td>\n",
       "      <td>17</td>\n",
       "      <td>6</td>\n",
       "    </tr>\n",
       "    <tr>\n",
       "      <th>9996</th>\n",
       "      <td>23</td>\n",
       "      <td>16</td>\n",
       "      <td>8</td>\n",
       "      <td>54</td>\n",
       "      <td>84</td>\n",
       "      <td>86</td>\n",
       "      <td>6</td>\n",
       "      <td>5</td>\n",
       "    </tr>\n",
       "    <tr>\n",
       "      <th>9997</th>\n",
       "      <td>26</td>\n",
       "      <td>23</td>\n",
       "      <td>3</td>\n",
       "      <td>54</td>\n",
       "      <td>40</td>\n",
       "      <td>70</td>\n",
       "      <td>20</td>\n",
       "      <td>8</td>\n",
       "    </tr>\n",
       "    <tr>\n",
       "      <th>9998</th>\n",
       "      <td>18</td>\n",
       "      <td>41</td>\n",
       "      <td>7</td>\n",
       "      <td>66</td>\n",
       "      <td>45</td>\n",
       "      <td>90</td>\n",
       "      <td>6</td>\n",
       "      <td>8</td>\n",
       "    </tr>\n",
       "    <tr>\n",
       "      <th>9999</th>\n",
       "      <td>24</td>\n",
       "      <td>8</td>\n",
       "      <td>20</td>\n",
       "      <td>87</td>\n",
       "      <td>40</td>\n",
       "      <td>81</td>\n",
       "      <td>17</td>\n",
       "      <td>4</td>\n",
       "    </tr>\n",
       "  </tbody>\n",
       "</table>\n",
       "<p>10000 rows × 8 columns</p>\n",
       "</div>"
      ],
      "text/plain": [
       "      Age  Study_Hours_per_Week  Online_Courses_Completed  \\\n",
       "0      18                    48                        14   \n",
       "1      29                    30                        20   \n",
       "2      20                    47                        11   \n",
       "3      23                    13                         0   \n",
       "4      19                    24                        19   \n",
       "...   ...                   ...                       ...   \n",
       "9995   20                    30                         6   \n",
       "9996   23                    16                         8   \n",
       "9997   26                    23                         3   \n",
       "9998   18                    41                         7   \n",
       "9999   24                     8                        20   \n",
       "\n",
       "      Assignment_Completion_Rate (%)  Exam_Score (%)  Attendance_Rate (%)  \\\n",
       "0                                100              69                   66   \n",
       "1                                 71              40                   57   \n",
       "2                                 60              43                   79   \n",
       "3                                 63              70                   60   \n",
       "4                                 59              63                   93   \n",
       "...                              ...             ...                  ...   \n",
       "9995                              62              58                   76   \n",
       "9996                              54              84                   86   \n",
       "9997                              54              40                   70   \n",
       "9998                              66              45                   90   \n",
       "9999                              87              40                   81   \n",
       "\n",
       "      Time_Spent_on_Social_Media (hours/week)  Sleep_Hours_per_Night  \n",
       "0                                           9                      8  \n",
       "1                                          28                      8  \n",
       "2                                          13                      7  \n",
       "3                                          24                     10  \n",
       "4                                          26                      8  \n",
       "...                                       ...                    ...  \n",
       "9995                                       17                      6  \n",
       "9996                                        6                      5  \n",
       "9997                                       20                      8  \n",
       "9998                                        6                      8  \n",
       "9999                                       17                      4  \n",
       "\n",
       "[10000 rows x 8 columns]"
      ]
     },
     "execution_count": 36,
     "metadata": {},
     "output_type": "execute_result"
    }
   ],
   "source": [
    "numerical_df"
   ]
  },
  {
   "cell_type": "markdown",
   "metadata": {},
   "source": [
    "### # Z-Scores"
   ]
  },
  {
   "cell_type": "code",
   "execution_count": 37,
   "metadata": {},
   "outputs": [
    {
     "name": "stdout",
     "output_type": "stream",
     "text": [
      "\n",
      "Z-Scores:\n"
     ]
    },
    {
     "data": {
      "application/vnd.microsoft.datawrangler.viewer.v0+json": {
       "columns": [
        {
         "name": "index",
         "rawType": "int64",
         "type": "integer"
        },
        {
         "name": "Age",
         "rawType": "float64",
         "type": "float"
        },
        {
         "name": "Study_Hours_per_Week",
         "rawType": "float64",
         "type": "float"
        },
        {
         "name": "Online_Courses_Completed",
         "rawType": "float64",
         "type": "float"
        },
        {
         "name": "Assignment_Completion_Rate (%)",
         "rawType": "float64",
         "type": "float"
        },
        {
         "name": "Exam_Score (%)",
         "rawType": "float64",
         "type": "float"
        },
        {
         "name": "Attendance_Rate (%)",
         "rawType": "float64",
         "type": "float"
        },
        {
         "name": "Time_Spent_on_Social_Media (hours/week)",
         "rawType": "float64",
         "type": "float"
        },
        {
         "name": "Sleep_Hours_per_Night",
         "rawType": "float64",
         "type": "float"
        }
       ],
       "conversionMethod": "pd.DataFrame",
       "ref": "82186a18-42ca-4ec1-be2e-c6bf7e43aaae",
       "rows": [
        [
         "0",
         "-1.58263883689283",
         "1.605127330856837",
         "0.650558579742218",
         "1.7089272295481326",
         "-0.06736525359513057",
         "-0.6160010527664795",
         "-0.6579889836084045",
         "0.5111511217595217"
        ],
        [
         "1",
         "1.5948867537148086",
         "0.22071394899590638",
         "1.6283275430580937",
         "-0.2672626443212286",
         "-1.7105584189234007",
         "-1.226232032601409",
         "1.447930445105431",
         "0.5111511217595217"
        ],
        [
         "2",
         "-1.0049069113278046",
         "1.5282154763090074",
         "0.16167409808428015",
         "-1.0168519068234",
         "-1.5405729190618556",
         "0.2654436958839741",
         "-0.21463752493180754",
         "0.010366246909397431"
        ],
        [
         "3",
         "-0.13830902298026693",
         "-1.0867875783171947",
         "-1.630902334661492",
         "-0.8124184715955352",
         "-0.010703420307948845",
         "-1.0228217059897657",
         "1.004578986428834",
         "1.5127208714597702"
        ],
        [
         "4",
         "-1.2937728741103172",
         "-0.24075717829107046",
         "1.4653660491721143",
         "-1.0849963852326885",
         "-0.40733625331822093",
         "1.2146918867383087",
         "1.2262547157671324",
         "0.5111511217595217"
        ],
        [
         "5",
         "1.306020790932296",
         "-0.08693346919541152",
         "-0.8160948652315955",
         "-0.8124184715955352",
         "-0.9172927529028565",
         "0.33324713808785517",
         "1.1154168510979832",
         "0.5111511217595217"
        ],
        [
         "6",
         "-1.2937728741103172",
         "1.6820391854046663",
         "0.4875970858562387",
         "1.0956269238645377",
         "-1.4839110857746738",
         "-0.6160010527664795",
         "1.6696061744437294",
         "1.5127208714597702"
        ],
        [
         "7",
         "1.0171548281497833",
         "-1.0098757237693652",
         "-0.8160948652315955",
         "0.8911934886366728",
         "-0.8039690863284931",
         "0.06203336927233097",
         "-1.2121783069541507",
         "-0.4904186279407268"
        ],
        [
         "8",
         "-0.4271749857627795",
         "1.3743917672133485",
         "0.9764815675141765",
         "-1.5620077340977065",
         "0.44259124598950494",
         "-0.3447872839509553",
         "1.2262547157671324",
         "1.011935996609646"
        ],
        [
         "9",
         "1.306020790932296",
         "0.6052732217350537",
         "-0.490171877459637",
         "1.7089272295481326",
         "-0.8606309196156747",
         "1.689315982165476",
         "-1.1013404422850015",
         "1.011935996609646"
        ],
        [
         "10",
         "-0.13830902298026693",
         "0.9898324944742011",
         "1.6283275430580937",
         "-0.06282920909336363",
         "-1.4839110857746738",
         "1.2146918867383087",
         "0.007038204406490915",
         "1.5127208714597702"
        ],
        [
         "11",
         "-0.13830902298026693",
         "-1.0098757237693652",
         "1.302404555286135",
         "0.14160422613450133",
         "-0.8039690863284931",
         "-0.07357351513543113",
         "-0.6579889836084045",
         "-0.4904186279407268"
        ],
        [
         "12",
         "-0.13830902298026693",
         "-0.24075717829107046",
         "-0.9790563591175748",
         "-0.5398405579583818",
         "0.15928207955359633",
         "1.2146918867383087",
         "1.447930445105431",
         "0.010366246909397431"
        ],
        [
         "13",
         "1.0171548281497833",
         "1.297479912665519",
         "1.6283275430580937",
         "0.3460376613623663",
         "-0.5773217531797661",
         "-1.6330526858246952",
         "1.3370925804362817",
         "-0.4904186279407268"
        ],
        [
         "14",
         "-0.4271749857627795",
         "-1.3175231419606832",
         "1.1394430614001558",
         "-0.5398405579583818",
         "0.04595841297923288",
         "-1.361838917009171",
         "1.447930445105431",
         "0.5111511217595217"
        ],
        [
         "15",
         "0.43942290258475825",
         "0.06689023990024742",
         "0.4875970858562387",
         "0.6867600534088079",
         "1.1225332454356858",
         "0.06203336927233097",
         "-1.1013404422850015",
         "0.5111511217595217"
        ],
        [
         "16",
         "-1.2937728741103172",
         "-1.2406112874128536",
         "1.6283275430580937",
         "0.4141821397716546",
         "1.2925187452972309",
         "1.2146918867383087",
         "-0.9905025776158521",
         "1.011935996609646"
        ],
        [
         "17",
         "-1.58263883689283",
         "-1.471346851056342",
         "-0.1642488896876784",
         "-1.5620077340977065",
         "1.5191660784459577",
         "-0.41259072615483633",
         "-1.5446919009615983",
         "-0.9912035027908511"
        ],
        [
         "18",
         "-0.4271749857627795",
         "-1.2406112874128536",
         "0.16167409808428015",
         "-1.6982966909162833",
         "0.21594391284077805",
         "1.418102213349952",
         "-0.21463752493180754",
         "0.010366246909397431"
        ],
        [
         "19",
         "-1.2937728741103172",
         "0.06689023990024742",
         "1.4653660491721143",
         "-1.6982966909162833",
         "-0.3506744200310392",
         "0.33324713808785517",
         "0.561227527752237",
         "0.5111511217595217"
        ],
        [
         "20",
         "-1.2937728741103172",
         "0.22071394899590638",
         "-1.630902334661492",
         "0.9593379670459612",
         "1.5191660784459577",
         "1.0112815601266656",
         "1.2262547157671324",
         "1.5127208714597702"
        ],
        [
         "21",
         "-1.0049069113278046",
         "1.605127330856837",
         "0.9764815675141765",
         "0.4141821397716546",
         "0.3292675794151415",
         "0.46885402249561725",
         "1.5587683097745801",
         "1.011935996609646"
        ],
        [
         "22",
         "-1.58263883689283",
         "-1.0098757237693652",
         "-0.9790563591175748",
         "1.0274824454552496",
         "0.2726057461279598",
         "-0.14137695733931216",
         "-0.3254753896009568",
         "1.011935996609646"
        ],
        [
         "23",
         "0.43942290258475825",
         "1.0667443490220305",
         "-0.6531333713456162",
         "-0.47169607954909354",
         "1.2925187452972309",
         "1.689315982165476",
         "0.8937411217596848",
         "0.010366246909397431"
        ],
        [
         "24",
         "0.43942290258475825",
         "0.6821850762828833",
         "-1.142017853003554",
         "1.4363493159109795",
         "0.7259004124254136",
         "-0.6160010527664795",
         "-0.7688268482775538",
         "0.010366246909397431"
        ],
        [
         "25",
         "-0.4271749857627795",
         "0.8360087853785422",
         "-0.490171877459637",
         "1.0956269238645377",
         "-0.5206599198925844",
         "-1.7008561280285763",
         "0.45038966308308787",
         "1.5127208714597702"
        ],
        [
         "26",
         "-1.2937728741103172",
         "1.605127330856837",
         "-1.4679408407755126",
         "0.7549045318180962",
         "-1.0306164194772198",
         "0.7400677913111414",
         "1.6696061744437294",
         "1.011935996609646"
        ],
        [
         "27",
         "-1.2937728741103172",
         "0.9898324944742011",
         "0.9764815675141765",
         "1.7089272295481326",
         "-0.40733625331822093",
         "-0.07357351513543113",
         "1.5587683097745801",
         "0.010366246909397431"
        ],
        [
         "28",
         "0.15055693980224566",
         "0.9129206399263716",
         "-0.1642488896876784",
         "0.27789318295307797",
         "1.1225332454356858",
         "1.0790850023305467",
         "0.6720653924213863",
         "-0.4904186279407268"
        ],
        [
         "29",
         "1.5948867537148086",
         "0.9129206399263716",
         "-0.8160948652315955",
         "0.073459747725213",
         "-1.6538965856362189",
         "0.2654436958839741",
         "0.561227527752237",
         "-0.9912035027908511"
        ],
        [
         "30",
         "-1.0049069113278046",
         "-0.31766903283889997",
         "-1.142017853003554",
         "-1.0849963852326885",
         "-0.7473072530413113",
         "0.4010505802917362",
         "-0.6579889836084045",
         "-0.9912035027908511"
        ],
        [
         "31",
         "-0.4271749857627795",
         "-1.625170560152001",
         "1.302404555286135",
         "0.6867600534088079",
         "0.5559149125638684",
         "0.06203336927233097",
         "0.11787606907564015",
         "0.010366246909397431"
        ],
        [
         "32",
         "-0.13830902298026693",
         "-0.163845323743241",
         "0.32463559197025943",
         "-1.3575742988698416",
         "-0.40733625331822093",
         "0.6722643491072604",
         "-0.10379966026265831",
         "-1.4919883776409752"
        ],
        [
         "33",
         "0.43942290258475825",
         "-1.625170560152001",
         "-0.0012873958016991307",
         "1.4363493159109795",
         "1.6891515783075028",
         "-0.27698384174707424",
         "-1.433854036292449",
         "0.010366246909397431"
        ],
        [
         "34",
         "1.306020790932296",
         "0.3745376580915653",
         "-0.8160948652315955",
         "-1.4938632556884184",
         "-0.9172927529028565",
         "1.418102213349952",
         "-1.6555297656307475",
         "1.5127208714597702"
        ],
        [
         "35",
         "-1.2937728741103172",
         "1.0667443490220305",
         "0.32463559197025943",
         "-1.221285342051265",
         "-0.5773217531797661",
         "-0.5481976105625984",
         "0.007038204406490915",
         "-0.9912035027908511"
        ],
        [
         "36",
         "0.7282888653672708",
         "-0.08693346919541152",
         "-1.142017853003554",
         "-1.4938632556884184",
         "-1.257263752625947",
         "0.06203336927233097",
         "0.45038966308308787",
         "-1.4919883776409752"
        ],
        [
         "37",
         "-1.0049069113278046",
         "-1.2406112874128536",
         "-1.142017853003554",
         "-1.1531408636419767",
         "0.15928207955359633",
         "-0.8872148215820037",
         "0.7829032570905355",
         "0.010366246909397431"
        ],
        [
         "38",
         "-0.7160409485452921",
         "-0.5484045964823884",
         "-1.4679408407755126",
         "-0.7442739931862468",
         "1.6324897450203213",
         "-0.8872148215820037",
         "-1.433854036292449",
         "-1.4919883776409752"
        ],
        [
         "39",
         "0.15055693980224566",
         "-1.163699432865024",
         "-0.32721038357365767",
         "1.572638272729556",
         "-0.2940125867438575",
         "-1.1584285903975278",
         "-1.6555297656307475",
         "-0.9912035027908511"
        ],
        [
         "40",
         "1.0171548281497833",
         "1.0667443490220305",
         "0.650558579742218",
         "-0.6761295147769585",
         "-0.8039690863284931",
         "-0.07357351513543113",
         "1.2262547157671324",
         "1.011935996609646"
        ],
        [
         "41",
         "1.306020790932296",
         "1.4513036217611779",
         "-0.32721038357365767",
         "0.14160422613450133",
         "-1.0872782527644016",
         "0.8756746757189036",
         "0.8937411217596848",
         "-0.9912035027908511"
        ],
        [
         "42",
         "0.43942290258475825",
         "-0.24075717829107046",
         "1.4653660491721143",
         "1.0274824454552496",
         "1.2925187452972309",
         "-1.429642359213052",
         "0.22871393374478938",
         "1.011935996609646"
        ],
        [
         "43",
         "-0.4271749857627795",
         "0.8360087853785422",
         "-0.8160948652315955",
         "1.4363493159109795",
         "-0.9172927529028565",
         "1.1468884445344276",
         "0.11787606907564015",
         "-0.9912035027908511"
        ],
        [
         "44",
         "-1.0049069113278046",
         "1.3743917672133485",
         "-0.1642488896876784",
         "0.20974870454378966",
         "-1.5972347523490371",
         "-1.1584285903975278",
         "1.004578986428834",
         "0.5111511217595217"
        ],
        [
         "45",
         "1.306020790932296",
         "-1.625170560152001",
         "0.4875970858562387",
         "0.4141821397716546",
         "1.235856912010049",
         "1.0112815601266656",
         "-0.9905025776158521",
         "1.5127208714597702"
        ],
        [
         "46",
         "0.7282888653672708",
         "-0.31766903283889997",
         "-0.0012873958016991307",
         "1.3000603590924027",
         "-1.5972347523490371",
         "-0.6838044949703606",
         "-0.43631325427010603",
         "-0.4904186279407268"
        ],
        [
         "47",
         "0.43942290258475825",
         "0.6052732217350537",
         "0.9764815675141765",
         "-1.6982966909162833",
         "0.7259004124254136",
         "0.8756746757189036",
         "-0.7688268482775538",
         "-1.4919883776409752"
        ],
        [
         "48",
         "-1.2937728741103172",
         "-1.163699432865024",
         "-0.8160948652315955",
         "-1.6982966909162833",
         "0.44259124598950494",
         "-0.6160010527664795",
         "-1.6555297656307475",
         "0.5111511217595217"
        ],
        [
         "49",
         "0.43942290258475825",
         "0.8360087853785422",
         "-0.6531333713456162",
         "0.8911934886366728",
         "0.3292675794151415",
         "1.689315982165476",
         "-0.3254753896009568",
         "1.011935996609646"
        ]
       ],
       "shape": {
        "columns": 8,
        "rows": 10000
       }
      },
      "text/html": [
       "<div>\n",
       "<style scoped>\n",
       "    .dataframe tbody tr th:only-of-type {\n",
       "        vertical-align: middle;\n",
       "    }\n",
       "\n",
       "    .dataframe tbody tr th {\n",
       "        vertical-align: top;\n",
       "    }\n",
       "\n",
       "    .dataframe thead th {\n",
       "        text-align: right;\n",
       "    }\n",
       "</style>\n",
       "<table border=\"1\" class=\"dataframe\">\n",
       "  <thead>\n",
       "    <tr style=\"text-align: right;\">\n",
       "      <th></th>\n",
       "      <th>Age</th>\n",
       "      <th>Study_Hours_per_Week</th>\n",
       "      <th>Online_Courses_Completed</th>\n",
       "      <th>Assignment_Completion_Rate (%)</th>\n",
       "      <th>Exam_Score (%)</th>\n",
       "      <th>Attendance_Rate (%)</th>\n",
       "      <th>Time_Spent_on_Social_Media (hours/week)</th>\n",
       "      <th>Sleep_Hours_per_Night</th>\n",
       "    </tr>\n",
       "  </thead>\n",
       "  <tbody>\n",
       "    <tr>\n",
       "      <th>0</th>\n",
       "      <td>-1.582639</td>\n",
       "      <td>1.605127</td>\n",
       "      <td>0.650559</td>\n",
       "      <td>1.708927</td>\n",
       "      <td>-0.067365</td>\n",
       "      <td>-0.616001</td>\n",
       "      <td>-0.657989</td>\n",
       "      <td>0.511151</td>\n",
       "    </tr>\n",
       "    <tr>\n",
       "      <th>1</th>\n",
       "      <td>1.594887</td>\n",
       "      <td>0.220714</td>\n",
       "      <td>1.628328</td>\n",
       "      <td>-0.267263</td>\n",
       "      <td>-1.710558</td>\n",
       "      <td>-1.226232</td>\n",
       "      <td>1.447930</td>\n",
       "      <td>0.511151</td>\n",
       "    </tr>\n",
       "    <tr>\n",
       "      <th>2</th>\n",
       "      <td>-1.004907</td>\n",
       "      <td>1.528215</td>\n",
       "      <td>0.161674</td>\n",
       "      <td>-1.016852</td>\n",
       "      <td>-1.540573</td>\n",
       "      <td>0.265444</td>\n",
       "      <td>-0.214638</td>\n",
       "      <td>0.010366</td>\n",
       "    </tr>\n",
       "    <tr>\n",
       "      <th>3</th>\n",
       "      <td>-0.138309</td>\n",
       "      <td>-1.086788</td>\n",
       "      <td>-1.630902</td>\n",
       "      <td>-0.812418</td>\n",
       "      <td>-0.010703</td>\n",
       "      <td>-1.022822</td>\n",
       "      <td>1.004579</td>\n",
       "      <td>1.512721</td>\n",
       "    </tr>\n",
       "    <tr>\n",
       "      <th>4</th>\n",
       "      <td>-1.293773</td>\n",
       "      <td>-0.240757</td>\n",
       "      <td>1.465366</td>\n",
       "      <td>-1.084996</td>\n",
       "      <td>-0.407336</td>\n",
       "      <td>1.214692</td>\n",
       "      <td>1.226255</td>\n",
       "      <td>0.511151</td>\n",
       "    </tr>\n",
       "    <tr>\n",
       "      <th>...</th>\n",
       "      <td>...</td>\n",
       "      <td>...</td>\n",
       "      <td>...</td>\n",
       "      <td>...</td>\n",
       "      <td>...</td>\n",
       "      <td>...</td>\n",
       "      <td>...</td>\n",
       "      <td>...</td>\n",
       "    </tr>\n",
       "    <tr>\n",
       "      <th>9995</th>\n",
       "      <td>-1.004907</td>\n",
       "      <td>0.220714</td>\n",
       "      <td>-0.653133</td>\n",
       "      <td>-0.880563</td>\n",
       "      <td>-0.690645</td>\n",
       "      <td>0.062033</td>\n",
       "      <td>0.228714</td>\n",
       "      <td>-0.490419</td>\n",
       "    </tr>\n",
       "    <tr>\n",
       "      <th>9996</th>\n",
       "      <td>-0.138309</td>\n",
       "      <td>-0.856052</td>\n",
       "      <td>-0.327210</td>\n",
       "      <td>-1.425719</td>\n",
       "      <td>0.782562</td>\n",
       "      <td>0.740068</td>\n",
       "      <td>-0.990503</td>\n",
       "      <td>-0.991204</td>\n",
       "    </tr>\n",
       "    <tr>\n",
       "      <th>9997</th>\n",
       "      <td>0.728289</td>\n",
       "      <td>-0.317669</td>\n",
       "      <td>-1.142018</td>\n",
       "      <td>-1.425719</td>\n",
       "      <td>-1.710558</td>\n",
       "      <td>-0.344787</td>\n",
       "      <td>0.561228</td>\n",
       "      <td>0.511151</td>\n",
       "    </tr>\n",
       "    <tr>\n",
       "      <th>9998</th>\n",
       "      <td>-1.582639</td>\n",
       "      <td>1.066744</td>\n",
       "      <td>-0.490172</td>\n",
       "      <td>-0.607985</td>\n",
       "      <td>-1.427249</td>\n",
       "      <td>1.011282</td>\n",
       "      <td>-0.990503</td>\n",
       "      <td>0.511151</td>\n",
       "    </tr>\n",
       "    <tr>\n",
       "      <th>9999</th>\n",
       "      <td>0.150557</td>\n",
       "      <td>-1.471347</td>\n",
       "      <td>1.628328</td>\n",
       "      <td>0.823049</td>\n",
       "      <td>-1.710558</td>\n",
       "      <td>0.401051</td>\n",
       "      <td>0.228714</td>\n",
       "      <td>-1.491988</td>\n",
       "    </tr>\n",
       "  </tbody>\n",
       "</table>\n",
       "<p>10000 rows × 8 columns</p>\n",
       "</div>"
      ],
      "text/plain": [
       "           Age  Study_Hours_per_Week  Online_Courses_Completed  \\\n",
       "0    -1.582639              1.605127                  0.650559   \n",
       "1     1.594887              0.220714                  1.628328   \n",
       "2    -1.004907              1.528215                  0.161674   \n",
       "3    -0.138309             -1.086788                 -1.630902   \n",
       "4    -1.293773             -0.240757                  1.465366   \n",
       "...        ...                   ...                       ...   \n",
       "9995 -1.004907              0.220714                 -0.653133   \n",
       "9996 -0.138309             -0.856052                 -0.327210   \n",
       "9997  0.728289             -0.317669                 -1.142018   \n",
       "9998 -1.582639              1.066744                 -0.490172   \n",
       "9999  0.150557             -1.471347                  1.628328   \n",
       "\n",
       "      Assignment_Completion_Rate (%)  Exam_Score (%)  Attendance_Rate (%)  \\\n",
       "0                           1.708927       -0.067365            -0.616001   \n",
       "1                          -0.267263       -1.710558            -1.226232   \n",
       "2                          -1.016852       -1.540573             0.265444   \n",
       "3                          -0.812418       -0.010703            -1.022822   \n",
       "4                          -1.084996       -0.407336             1.214692   \n",
       "...                              ...             ...                  ...   \n",
       "9995                       -0.880563       -0.690645             0.062033   \n",
       "9996                       -1.425719        0.782562             0.740068   \n",
       "9997                       -1.425719       -1.710558            -0.344787   \n",
       "9998                       -0.607985       -1.427249             1.011282   \n",
       "9999                        0.823049       -1.710558             0.401051   \n",
       "\n",
       "      Time_Spent_on_Social_Media (hours/week)  Sleep_Hours_per_Night  \n",
       "0                                   -0.657989               0.511151  \n",
       "1                                    1.447930               0.511151  \n",
       "2                                   -0.214638               0.010366  \n",
       "3                                    1.004579               1.512721  \n",
       "4                                    1.226255               0.511151  \n",
       "...                                       ...                    ...  \n",
       "9995                                 0.228714              -0.490419  \n",
       "9996                                -0.990503              -0.991204  \n",
       "9997                                 0.561228               0.511151  \n",
       "9998                                -0.990503               0.511151  \n",
       "9999                                 0.228714              -1.491988  \n",
       "\n",
       "[10000 rows x 8 columns]"
      ]
     },
     "execution_count": 37,
     "metadata": {},
     "output_type": "execute_result"
    }
   ],
   "source": [
    "df_zscore = numerical_df.apply(zscore)  # Calculate z-scores for all columns\n",
    "print(\"\\nZ-Scores:\")\n",
    "df_zscore"
   ]
  },
  {
   "cell_type": "markdown",
   "metadata": {},
   "source": [
    "### 3.5 Check statistics of data set"
   ]
  },
  {
   "cell_type": "code",
   "execution_count": 38,
   "metadata": {},
   "outputs": [
    {
     "data": {
      "application/vnd.microsoft.datawrangler.viewer.v0+json": {
       "columns": [
        {
         "name": "index",
         "rawType": "object",
         "type": "string"
        },
        {
         "name": "Age",
         "rawType": "float64",
         "type": "float"
        },
        {
         "name": "Study_Hours_per_Week",
         "rawType": "float64",
         "type": "float"
        },
        {
         "name": "Online_Courses_Completed",
         "rawType": "float64",
         "type": "float"
        },
        {
         "name": "Assignment_Completion_Rate (%)",
         "rawType": "float64",
         "type": "float"
        },
        {
         "name": "Exam_Score (%)",
         "rawType": "float64",
         "type": "float"
        },
        {
         "name": "Attendance_Rate (%)",
         "rawType": "float64",
         "type": "float"
        },
        {
         "name": "Time_Spent_on_Social_Media (hours/week)",
         "rawType": "float64",
         "type": "float"
        },
        {
         "name": "Sleep_Hours_per_Night",
         "rawType": "float64",
         "type": "float"
        }
       ],
       "conversionMethod": "pd.DataFrame",
       "ref": "18a34ef5-4366-4e9e-a4be-95a6ca14f2ee",
       "rows": [
        [
         "count",
         "10000.0",
         "10000.0",
         "10000.0",
         "10000.0",
         "10000.0",
         "10000.0",
         "10000.0",
         "10000.0"
        ],
        [
         "mean",
         "23.4788",
         "27.1303",
         "10.0079",
         "74.922",
         "70.1889",
         "75.0851",
         "14.9365",
         "6.9793"
        ],
        [
         "std",
         "3.4619862932873153",
         "13.002547001755305",
         "6.136725798856708",
         "14.67543705806698",
         "17.649446651006055",
         "14.749251236290029",
         "9.022638668973405",
         "1.9969652718637008"
        ],
        [
         "min",
         "18.0",
         "5.0",
         "0.0",
         "50.0",
         "40.0",
         "50.0",
         "0.0",
         "4.0"
        ],
        [
         "25%",
         "20.0",
         "16.0",
         "5.0",
         "62.0",
         "55.0",
         "62.0",
         "7.0",
         "5.0"
        ],
        [
         "50%",
         "23.0",
         "27.0",
         "10.0",
         "75.0",
         "70.0",
         "75.0",
         "15.0",
         "7.0"
        ],
        [
         "75%",
         "27.0",
         "38.0",
         "15.0",
         "88.0",
         "85.0",
         "88.0",
         "23.0",
         "9.0"
        ],
        [
         "max",
         "29.0",
         "49.0",
         "20.0",
         "100.0",
         "100.0",
         "100.0",
         "30.0",
         "10.0"
        ]
       ],
       "shape": {
        "columns": 8,
        "rows": 8
       }
      },
      "text/html": [
       "<div>\n",
       "<style scoped>\n",
       "    .dataframe tbody tr th:only-of-type {\n",
       "        vertical-align: middle;\n",
       "    }\n",
       "\n",
       "    .dataframe tbody tr th {\n",
       "        vertical-align: top;\n",
       "    }\n",
       "\n",
       "    .dataframe thead th {\n",
       "        text-align: right;\n",
       "    }\n",
       "</style>\n",
       "<table border=\"1\" class=\"dataframe\">\n",
       "  <thead>\n",
       "    <tr style=\"text-align: right;\">\n",
       "      <th></th>\n",
       "      <th>Age</th>\n",
       "      <th>Study_Hours_per_Week</th>\n",
       "      <th>Online_Courses_Completed</th>\n",
       "      <th>Assignment_Completion_Rate (%)</th>\n",
       "      <th>Exam_Score (%)</th>\n",
       "      <th>Attendance_Rate (%)</th>\n",
       "      <th>Time_Spent_on_Social_Media (hours/week)</th>\n",
       "      <th>Sleep_Hours_per_Night</th>\n",
       "    </tr>\n",
       "  </thead>\n",
       "  <tbody>\n",
       "    <tr>\n",
       "      <th>count</th>\n",
       "      <td>10000.000000</td>\n",
       "      <td>10000.000000</td>\n",
       "      <td>10000.000000</td>\n",
       "      <td>10000.000000</td>\n",
       "      <td>10000.000000</td>\n",
       "      <td>10000.000000</td>\n",
       "      <td>10000.000000</td>\n",
       "      <td>10000.000000</td>\n",
       "    </tr>\n",
       "    <tr>\n",
       "      <th>mean</th>\n",
       "      <td>23.478800</td>\n",
       "      <td>27.130300</td>\n",
       "      <td>10.007900</td>\n",
       "      <td>74.922000</td>\n",
       "      <td>70.188900</td>\n",
       "      <td>75.085100</td>\n",
       "      <td>14.936500</td>\n",
       "      <td>6.979300</td>\n",
       "    </tr>\n",
       "    <tr>\n",
       "      <th>std</th>\n",
       "      <td>3.461986</td>\n",
       "      <td>13.002547</td>\n",
       "      <td>6.136726</td>\n",
       "      <td>14.675437</td>\n",
       "      <td>17.649447</td>\n",
       "      <td>14.749251</td>\n",
       "      <td>9.022639</td>\n",
       "      <td>1.996965</td>\n",
       "    </tr>\n",
       "    <tr>\n",
       "      <th>min</th>\n",
       "      <td>18.000000</td>\n",
       "      <td>5.000000</td>\n",
       "      <td>0.000000</td>\n",
       "      <td>50.000000</td>\n",
       "      <td>40.000000</td>\n",
       "      <td>50.000000</td>\n",
       "      <td>0.000000</td>\n",
       "      <td>4.000000</td>\n",
       "    </tr>\n",
       "    <tr>\n",
       "      <th>25%</th>\n",
       "      <td>20.000000</td>\n",
       "      <td>16.000000</td>\n",
       "      <td>5.000000</td>\n",
       "      <td>62.000000</td>\n",
       "      <td>55.000000</td>\n",
       "      <td>62.000000</td>\n",
       "      <td>7.000000</td>\n",
       "      <td>5.000000</td>\n",
       "    </tr>\n",
       "    <tr>\n",
       "      <th>50%</th>\n",
       "      <td>23.000000</td>\n",
       "      <td>27.000000</td>\n",
       "      <td>10.000000</td>\n",
       "      <td>75.000000</td>\n",
       "      <td>70.000000</td>\n",
       "      <td>75.000000</td>\n",
       "      <td>15.000000</td>\n",
       "      <td>7.000000</td>\n",
       "    </tr>\n",
       "    <tr>\n",
       "      <th>75%</th>\n",
       "      <td>27.000000</td>\n",
       "      <td>38.000000</td>\n",
       "      <td>15.000000</td>\n",
       "      <td>88.000000</td>\n",
       "      <td>85.000000</td>\n",
       "      <td>88.000000</td>\n",
       "      <td>23.000000</td>\n",
       "      <td>9.000000</td>\n",
       "    </tr>\n",
       "    <tr>\n",
       "      <th>max</th>\n",
       "      <td>29.000000</td>\n",
       "      <td>49.000000</td>\n",
       "      <td>20.000000</td>\n",
       "      <td>100.000000</td>\n",
       "      <td>100.000000</td>\n",
       "      <td>100.000000</td>\n",
       "      <td>30.000000</td>\n",
       "      <td>10.000000</td>\n",
       "    </tr>\n",
       "  </tbody>\n",
       "</table>\n",
       "</div>"
      ],
      "text/plain": [
       "                Age  Study_Hours_per_Week  Online_Courses_Completed  \\\n",
       "count  10000.000000          10000.000000              10000.000000   \n",
       "mean      23.478800             27.130300                 10.007900   \n",
       "std        3.461986             13.002547                  6.136726   \n",
       "min       18.000000              5.000000                  0.000000   \n",
       "25%       20.000000             16.000000                  5.000000   \n",
       "50%       23.000000             27.000000                 10.000000   \n",
       "75%       27.000000             38.000000                 15.000000   \n",
       "max       29.000000             49.000000                 20.000000   \n",
       "\n",
       "       Assignment_Completion_Rate (%)  Exam_Score (%)  Attendance_Rate (%)  \\\n",
       "count                    10000.000000    10000.000000         10000.000000   \n",
       "mean                        74.922000       70.188900            75.085100   \n",
       "std                         14.675437       17.649447            14.749251   \n",
       "min                         50.000000       40.000000            50.000000   \n",
       "25%                         62.000000       55.000000            62.000000   \n",
       "50%                         75.000000       70.000000            75.000000   \n",
       "75%                         88.000000       85.000000            88.000000   \n",
       "max                        100.000000      100.000000           100.000000   \n",
       "\n",
       "       Time_Spent_on_Social_Media (hours/week)  Sleep_Hours_per_Night  \n",
       "count                             10000.000000           10000.000000  \n",
       "mean                                 14.936500               6.979300  \n",
       "std                                   9.022639               1.996965  \n",
       "min                                   0.000000               4.000000  \n",
       "25%                                   7.000000               5.000000  \n",
       "50%                                  15.000000               7.000000  \n",
       "75%                                  23.000000               9.000000  \n",
       "max                                  30.000000              10.000000  "
      ]
     },
     "execution_count": 38,
     "metadata": {},
     "output_type": "execute_result"
    }
   ],
   "source": [
    "### 3.5 Check statistics of data set\n",
    "df.describe()"
   ]
  },
  {
   "cell_type": "markdown",
   "metadata": {},
   "source": [
    "### Insight\n",
    "- From above description of numerical data, all means are very close to each other - between 66 and 68.05;\n",
    "- All standard deviations are also close - between 14.6 and 15.19;\n",
    "- While there is a minimum score  0 for math, for writing minimum is much higher = 10 and for reading myet higher = 17"
   ]
  },
  {
   "cell_type": "markdown",
   "metadata": {},
   "source": [
    "### 3.7 Exploring Data"
   ]
  },
  {
   "cell_type": "code",
   "execution_count": 39,
   "metadata": {},
   "outputs": [
    {
     "data": {
      "application/vnd.microsoft.datawrangler.viewer.v0+json": {
       "columns": [
        {
         "name": "index",
         "rawType": "int64",
         "type": "integer"
        },
        {
         "name": "Age",
         "rawType": "int64",
         "type": "integer"
        },
        {
         "name": "Gender",
         "rawType": "object",
         "type": "string"
        },
        {
         "name": "Study_Hours_per_Week",
         "rawType": "int64",
         "type": "integer"
        },
        {
         "name": "Preferred_Learning_Style",
         "rawType": "object",
         "type": "string"
        },
        {
         "name": "Online_Courses_Completed",
         "rawType": "int64",
         "type": "integer"
        },
        {
         "name": "Participation_in_Discussions",
         "rawType": "object",
         "type": "string"
        },
        {
         "name": "Assignment_Completion_Rate (%)",
         "rawType": "int64",
         "type": "integer"
        },
        {
         "name": "Exam_Score (%)",
         "rawType": "int64",
         "type": "integer"
        },
        {
         "name": "Attendance_Rate (%)",
         "rawType": "int64",
         "type": "integer"
        },
        {
         "name": "Use_of_Educational_Tech",
         "rawType": "object",
         "type": "string"
        },
        {
         "name": "Self_Reported_Stress_Level",
         "rawType": "object",
         "type": "string"
        },
        {
         "name": "Time_Spent_on_Social_Media (hours/week)",
         "rawType": "int64",
         "type": "integer"
        },
        {
         "name": "Sleep_Hours_per_Night",
         "rawType": "int64",
         "type": "integer"
        },
        {
         "name": "Final_Grade",
         "rawType": "object",
         "type": "string"
        }
       ],
       "conversionMethod": "pd.DataFrame",
       "ref": "7811ef81-778f-4044-ab6d-dcb404147e58",
       "rows": [
        [
         "0",
         "18",
         "Female",
         "48",
         "Kinesthetic",
         "14",
         "Yes",
         "100",
         "69",
         "66",
         "Yes",
         "High",
         "9",
         "8",
         "C"
        ],
        [
         "1",
         "29",
         "Female",
         "30",
         "Reading/Writing",
         "20",
         "No",
         "71",
         "40",
         "57",
         "Yes",
         "Medium",
         "28",
         "8",
         "D"
        ],
        [
         "2",
         "20",
         "Female",
         "47",
         "Kinesthetic",
         "11",
         "No",
         "60",
         "43",
         "79",
         "Yes",
         "Low",
         "13",
         "7",
         "D"
        ],
        [
         "3",
         "23",
         "Female",
         "13",
         "Auditory",
         "0",
         "Yes",
         "63",
         "70",
         "60",
         "Yes",
         "Low",
         "24",
         "10",
         "B"
        ],
        [
         "4",
         "19",
         "Female",
         "24",
         "Auditory",
         "19",
         "Yes",
         "59",
         "63",
         "93",
         "Yes",
         "Medium",
         "26",
         "8",
         "C"
        ]
       ],
       "shape": {
        "columns": 14,
        "rows": 5
       }
      },
      "text/html": [
       "<div>\n",
       "<style scoped>\n",
       "    .dataframe tbody tr th:only-of-type {\n",
       "        vertical-align: middle;\n",
       "    }\n",
       "\n",
       "    .dataframe tbody tr th {\n",
       "        vertical-align: top;\n",
       "    }\n",
       "\n",
       "    .dataframe thead th {\n",
       "        text-align: right;\n",
       "    }\n",
       "</style>\n",
       "<table border=\"1\" class=\"dataframe\">\n",
       "  <thead>\n",
       "    <tr style=\"text-align: right;\">\n",
       "      <th></th>\n",
       "      <th>Age</th>\n",
       "      <th>Gender</th>\n",
       "      <th>Study_Hours_per_Week</th>\n",
       "      <th>Preferred_Learning_Style</th>\n",
       "      <th>Online_Courses_Completed</th>\n",
       "      <th>Participation_in_Discussions</th>\n",
       "      <th>Assignment_Completion_Rate (%)</th>\n",
       "      <th>Exam_Score (%)</th>\n",
       "      <th>Attendance_Rate (%)</th>\n",
       "      <th>Use_of_Educational_Tech</th>\n",
       "      <th>Self_Reported_Stress_Level</th>\n",
       "      <th>Time_Spent_on_Social_Media (hours/week)</th>\n",
       "      <th>Sleep_Hours_per_Night</th>\n",
       "      <th>Final_Grade</th>\n",
       "    </tr>\n",
       "  </thead>\n",
       "  <tbody>\n",
       "    <tr>\n",
       "      <th>0</th>\n",
       "      <td>18</td>\n",
       "      <td>Female</td>\n",
       "      <td>48</td>\n",
       "      <td>Kinesthetic</td>\n",
       "      <td>14</td>\n",
       "      <td>Yes</td>\n",
       "      <td>100</td>\n",
       "      <td>69</td>\n",
       "      <td>66</td>\n",
       "      <td>Yes</td>\n",
       "      <td>High</td>\n",
       "      <td>9</td>\n",
       "      <td>8</td>\n",
       "      <td>C</td>\n",
       "    </tr>\n",
       "    <tr>\n",
       "      <th>1</th>\n",
       "      <td>29</td>\n",
       "      <td>Female</td>\n",
       "      <td>30</td>\n",
       "      <td>Reading/Writing</td>\n",
       "      <td>20</td>\n",
       "      <td>No</td>\n",
       "      <td>71</td>\n",
       "      <td>40</td>\n",
       "      <td>57</td>\n",
       "      <td>Yes</td>\n",
       "      <td>Medium</td>\n",
       "      <td>28</td>\n",
       "      <td>8</td>\n",
       "      <td>D</td>\n",
       "    </tr>\n",
       "    <tr>\n",
       "      <th>2</th>\n",
       "      <td>20</td>\n",
       "      <td>Female</td>\n",
       "      <td>47</td>\n",
       "      <td>Kinesthetic</td>\n",
       "      <td>11</td>\n",
       "      <td>No</td>\n",
       "      <td>60</td>\n",
       "      <td>43</td>\n",
       "      <td>79</td>\n",
       "      <td>Yes</td>\n",
       "      <td>Low</td>\n",
       "      <td>13</td>\n",
       "      <td>7</td>\n",
       "      <td>D</td>\n",
       "    </tr>\n",
       "    <tr>\n",
       "      <th>3</th>\n",
       "      <td>23</td>\n",
       "      <td>Female</td>\n",
       "      <td>13</td>\n",
       "      <td>Auditory</td>\n",
       "      <td>0</td>\n",
       "      <td>Yes</td>\n",
       "      <td>63</td>\n",
       "      <td>70</td>\n",
       "      <td>60</td>\n",
       "      <td>Yes</td>\n",
       "      <td>Low</td>\n",
       "      <td>24</td>\n",
       "      <td>10</td>\n",
       "      <td>B</td>\n",
       "    </tr>\n",
       "    <tr>\n",
       "      <th>4</th>\n",
       "      <td>19</td>\n",
       "      <td>Female</td>\n",
       "      <td>24</td>\n",
       "      <td>Auditory</td>\n",
       "      <td>19</td>\n",
       "      <td>Yes</td>\n",
       "      <td>59</td>\n",
       "      <td>63</td>\n",
       "      <td>93</td>\n",
       "      <td>Yes</td>\n",
       "      <td>Medium</td>\n",
       "      <td>26</td>\n",
       "      <td>8</td>\n",
       "      <td>C</td>\n",
       "    </tr>\n",
       "  </tbody>\n",
       "</table>\n",
       "</div>"
      ],
      "text/plain": [
       "   Age  Gender  Study_Hours_per_Week Preferred_Learning_Style  \\\n",
       "0   18  Female                    48              Kinesthetic   \n",
       "1   29  Female                    30          Reading/Writing   \n",
       "2   20  Female                    47              Kinesthetic   \n",
       "3   23  Female                    13                 Auditory   \n",
       "4   19  Female                    24                 Auditory   \n",
       "\n",
       "   Online_Courses_Completed Participation_in_Discussions  \\\n",
       "0                        14                          Yes   \n",
       "1                        20                           No   \n",
       "2                        11                           No   \n",
       "3                         0                          Yes   \n",
       "4                        19                          Yes   \n",
       "\n",
       "   Assignment_Completion_Rate (%)  Exam_Score (%)  Attendance_Rate (%)  \\\n",
       "0                             100              69                   66   \n",
       "1                              71              40                   57   \n",
       "2                              60              43                   79   \n",
       "3                              63              70                   60   \n",
       "4                              59              63                   93   \n",
       "\n",
       "  Use_of_Educational_Tech Self_Reported_Stress_Level  \\\n",
       "0                     Yes                       High   \n",
       "1                     Yes                     Medium   \n",
       "2                     Yes                        Low   \n",
       "3                     Yes                        Low   \n",
       "4                     Yes                     Medium   \n",
       "\n",
       "   Time_Spent_on_Social_Media (hours/week)  Sleep_Hours_per_Night Final_Grade  \n",
       "0                                        9                      8           C  \n",
       "1                                       28                      8           D  \n",
       "2                                       13                      7           D  \n",
       "3                                       24                     10           B  \n",
       "4                                       26                      8           C  "
      ]
     },
     "execution_count": 39,
     "metadata": {},
     "output_type": "execute_result"
    }
   ],
   "source": [
    "df.head()"
   ]
  },
  {
   "cell_type": "code",
   "execution_count": 40,
   "metadata": {},
   "outputs": [
    {
     "name": "stdout",
     "output_type": "stream",
     "text": [
      "Categories in 'Gender' variable:   ['Female' 'Male' 'Other']\n",
      "Categories in 'Preferred_Learning_Style' variable:   ['Kinesthetic' 'Reading/Writing' 'Auditory' 'Visual']\n",
      "Categories in'Self_Reported_Stress_Level' variable: ['High' 'Medium' 'Low']\n",
      "Categories in'Use_of_Educational_Tech' variable: ['Yes' 'No']\n",
      "Categories in 'Online_Courses_Completed' variable:      [14 20 11  0 19  5 13 16  7 18  4 17  9  6  3  1 12 10  8  2 15]\n",
      "Categories in 'Age' variable:      [18 29 20 23 19 28 27 22 25 24 26 21]\n",
      "Categories in'Study_Hours_per_Week' variable: [48 30 47 13 24 26 49 14 45 35 40 44 10 28 11  8 41 36 38 39 23  6 25 32\n",
      " 20 12 46 33 21  5 19 31  9 42  7 22 34 43 15 16 29 27 17 37 18]\n",
      "Categories in'Use_of_Educational_Tech' variable: ['Yes' 'No']\n"
     ]
    }
   ],
   "source": [
    "print(\"Categories in 'Gender' variable:  \",end=\" \")\n",
    "print(df['Gender'].unique())\n",
    "\n",
    "print(\"Categories in 'Preferred_Learning_Style' variable:  \",end=\" \")\n",
    "print(df['Preferred_Learning_Style'].unique())\n",
    "\n",
    "print(\"Categories in'Self_Reported_Stress_Level' variable:\",end=\" \" )\n",
    "print(df['Self_Reported_Stress_Level'].unique())\n",
    "\n",
    "print(\"Categories in'Use_of_Educational_Tech' variable:\",end=\" \" )\n",
    "print(df['Use_of_Educational_Tech'].unique())\n",
    "\n",
    "print(\"Categories in 'Online_Courses_Completed' variable:     \",end=\" \" )\n",
    "print(df['Online_Courses_Completed'].unique())\n",
    "\n",
    "print(\"Categories in 'Age' variable:     \",end=\" \" )\n",
    "print(df['Age'].unique())\n",
    "\n",
    "print(\"Categories in'Study_Hours_per_Week' variable:\",end=\" \" )\n",
    "print(df['Study_Hours_per_Week'].unique())\n",
    "\n",
    "print(\"Categories in'Use_of_Educational_Tech' variable:\",end=\" \" )\n",
    "print(df['Use_of_Educational_Tech'].unique())\n",
    "\n"
   ]
  },
  {
   "cell_type": "code",
   "execution_count": 41,
   "metadata": {},
   "outputs": [
    {
     "name": "stdout",
     "output_type": "stream",
     "text": [
      "We have 8 numerical features : ['Age', 'Study_Hours_per_Week', 'Online_Courses_Completed', 'Assignment_Completion_Rate (%)', 'Exam_Score (%)', 'Attendance_Rate (%)', 'Time_Spent_on_Social_Media (hours/week)', 'Sleep_Hours_per_Night']\n",
      "\n",
      "We have 6 categorical features : ['Gender', 'Preferred_Learning_Style', 'Participation_in_Discussions', 'Use_of_Educational_Tech', 'Self_Reported_Stress_Level', 'Final_Grade']\n"
     ]
    }
   ],
   "source": [
    "# define numerical & categorical columns\n",
    "numeric_features = [feature for feature in df.columns if df[feature].dtype != 'O']\n",
    "categorical_features = [feature for feature in df.columns if df[feature].dtype == 'O']\n",
    "\n",
    "# print columns\n",
    "print('We have {} numerical features : {}'.format(len(numeric_features), numeric_features))\n",
    "print('\\nWe have {} categorical features : {}'.format(len(categorical_features), categorical_features))"
   ]
  },
  {
   "cell_type": "code",
   "execution_count": 42,
   "metadata": {},
   "outputs": [
    {
     "data": {
      "application/vnd.microsoft.datawrangler.viewer.v0+json": {
       "columns": [
        {
         "name": "index",
         "rawType": "int64",
         "type": "integer"
        },
        {
         "name": "Age",
         "rawType": "int64",
         "type": "integer"
        },
        {
         "name": "Gender",
         "rawType": "object",
         "type": "string"
        },
        {
         "name": "Study_Hours_per_Week",
         "rawType": "int64",
         "type": "integer"
        },
        {
         "name": "Preferred_Learning_Style",
         "rawType": "object",
         "type": "string"
        },
        {
         "name": "Online_Courses_Completed",
         "rawType": "int64",
         "type": "integer"
        },
        {
         "name": "Participation_in_Discussions",
         "rawType": "object",
         "type": "string"
        },
        {
         "name": "Assignment_Completion_Rate (%)",
         "rawType": "int64",
         "type": "integer"
        },
        {
         "name": "Exam_Score (%)",
         "rawType": "int64",
         "type": "integer"
        },
        {
         "name": "Attendance_Rate (%)",
         "rawType": "int64",
         "type": "integer"
        },
        {
         "name": "Use_of_Educational_Tech",
         "rawType": "object",
         "type": "string"
        },
        {
         "name": "Self_Reported_Stress_Level",
         "rawType": "object",
         "type": "string"
        },
        {
         "name": "Time_Spent_on_Social_Media (hours/week)",
         "rawType": "int64",
         "type": "integer"
        },
        {
         "name": "Sleep_Hours_per_Night",
         "rawType": "int64",
         "type": "integer"
        },
        {
         "name": "Final_Grade",
         "rawType": "object",
         "type": "string"
        }
       ],
       "conversionMethod": "pd.DataFrame",
       "ref": "aaa0d46b-3de9-4fc9-aa83-77a11bbc9606",
       "rows": [
        [
         "0",
         "18",
         "Female",
         "48",
         "Kinesthetic",
         "14",
         "Yes",
         "100",
         "69",
         "66",
         "Yes",
         "High",
         "9",
         "8",
         "C"
        ],
        [
         "1",
         "29",
         "Female",
         "30",
         "Reading/Writing",
         "20",
         "No",
         "71",
         "40",
         "57",
         "Yes",
         "Medium",
         "28",
         "8",
         "D"
        ]
       ],
       "shape": {
        "columns": 14,
        "rows": 2
       }
      },
      "text/html": [
       "<div>\n",
       "<style scoped>\n",
       "    .dataframe tbody tr th:only-of-type {\n",
       "        vertical-align: middle;\n",
       "    }\n",
       "\n",
       "    .dataframe tbody tr th {\n",
       "        vertical-align: top;\n",
       "    }\n",
       "\n",
       "    .dataframe thead th {\n",
       "        text-align: right;\n",
       "    }\n",
       "</style>\n",
       "<table border=\"1\" class=\"dataframe\">\n",
       "  <thead>\n",
       "    <tr style=\"text-align: right;\">\n",
       "      <th></th>\n",
       "      <th>Age</th>\n",
       "      <th>Gender</th>\n",
       "      <th>Study_Hours_per_Week</th>\n",
       "      <th>Preferred_Learning_Style</th>\n",
       "      <th>Online_Courses_Completed</th>\n",
       "      <th>Participation_in_Discussions</th>\n",
       "      <th>Assignment_Completion_Rate (%)</th>\n",
       "      <th>Exam_Score (%)</th>\n",
       "      <th>Attendance_Rate (%)</th>\n",
       "      <th>Use_of_Educational_Tech</th>\n",
       "      <th>Self_Reported_Stress_Level</th>\n",
       "      <th>Time_Spent_on_Social_Media (hours/week)</th>\n",
       "      <th>Sleep_Hours_per_Night</th>\n",
       "      <th>Final_Grade</th>\n",
       "    </tr>\n",
       "  </thead>\n",
       "  <tbody>\n",
       "    <tr>\n",
       "      <th>0</th>\n",
       "      <td>18</td>\n",
       "      <td>Female</td>\n",
       "      <td>48</td>\n",
       "      <td>Kinesthetic</td>\n",
       "      <td>14</td>\n",
       "      <td>Yes</td>\n",
       "      <td>100</td>\n",
       "      <td>69</td>\n",
       "      <td>66</td>\n",
       "      <td>Yes</td>\n",
       "      <td>High</td>\n",
       "      <td>9</td>\n",
       "      <td>8</td>\n",
       "      <td>C</td>\n",
       "    </tr>\n",
       "    <tr>\n",
       "      <th>1</th>\n",
       "      <td>29</td>\n",
       "      <td>Female</td>\n",
       "      <td>30</td>\n",
       "      <td>Reading/Writing</td>\n",
       "      <td>20</td>\n",
       "      <td>No</td>\n",
       "      <td>71</td>\n",
       "      <td>40</td>\n",
       "      <td>57</td>\n",
       "      <td>Yes</td>\n",
       "      <td>Medium</td>\n",
       "      <td>28</td>\n",
       "      <td>8</td>\n",
       "      <td>D</td>\n",
       "    </tr>\n",
       "  </tbody>\n",
       "</table>\n",
       "</div>"
      ],
      "text/plain": [
       "   Age  Gender  Study_Hours_per_Week Preferred_Learning_Style  \\\n",
       "0   18  Female                    48              Kinesthetic   \n",
       "1   29  Female                    30          Reading/Writing   \n",
       "\n",
       "   Online_Courses_Completed Participation_in_Discussions  \\\n",
       "0                        14                          Yes   \n",
       "1                        20                           No   \n",
       "\n",
       "   Assignment_Completion_Rate (%)  Exam_Score (%)  Attendance_Rate (%)  \\\n",
       "0                             100              69                   66   \n",
       "1                              71              40                   57   \n",
       "\n",
       "  Use_of_Educational_Tech Self_Reported_Stress_Level  \\\n",
       "0                     Yes                       High   \n",
       "1                     Yes                     Medium   \n",
       "\n",
       "   Time_Spent_on_Social_Media (hours/week)  Sleep_Hours_per_Night Final_Grade  \n",
       "0                                        9                      8           C  \n",
       "1                                       28                      8           D  "
      ]
     },
     "execution_count": 42,
     "metadata": {},
     "output_type": "execute_result"
    }
   ],
   "source": [
    "df.head(2)\n"
   ]
  },
  {
   "cell_type": "markdown",
   "metadata": {},
   "source": [
    "### 3.8 Adding columns for \"Total Score\" and \"Average\""
   ]
  },
  {
   "cell_type": "code",
   "execution_count": 43,
   "metadata": {},
   "outputs": [
    {
     "data": {
      "application/vnd.microsoft.datawrangler.viewer.v0+json": {
       "columns": [
        {
         "name": "index",
         "rawType": "int64",
         "type": "integer"
        },
        {
         "name": "Age",
         "rawType": "int64",
         "type": "integer"
        },
        {
         "name": "Gender",
         "rawType": "object",
         "type": "string"
        },
        {
         "name": "Study_Hours_per_Week",
         "rawType": "int64",
         "type": "integer"
        },
        {
         "name": "Preferred_Learning_Style",
         "rawType": "object",
         "type": "string"
        },
        {
         "name": "Online_Courses_Completed",
         "rawType": "int64",
         "type": "integer"
        },
        {
         "name": "Participation_in_Discussions",
         "rawType": "object",
         "type": "string"
        },
        {
         "name": "Assignment_Completion_Rate (%)",
         "rawType": "int64",
         "type": "integer"
        },
        {
         "name": "Exam_Score (%)",
         "rawType": "int64",
         "type": "integer"
        },
        {
         "name": "Attendance_Rate (%)",
         "rawType": "int64",
         "type": "integer"
        },
        {
         "name": "Use_of_Educational_Tech",
         "rawType": "object",
         "type": "string"
        },
        {
         "name": "Self_Reported_Stress_Level",
         "rawType": "object",
         "type": "string"
        },
        {
         "name": "Time_Spent_on_Social_Media (hours/week)",
         "rawType": "int64",
         "type": "integer"
        },
        {
         "name": "Sleep_Hours_per_Night",
         "rawType": "int64",
         "type": "integer"
        },
        {
         "name": "Final_Grade",
         "rawType": "object",
         "type": "string"
        },
        {
         "name": "total score",
         "rawType": "int64",
         "type": "integer"
        },
        {
         "name": "average",
         "rawType": "float64",
         "type": "float"
        }
       ],
       "conversionMethod": "pd.DataFrame",
       "ref": "a9261b39-0517-4eb7-96ae-984568dd6153",
       "rows": [
        [
         "0",
         "18",
         "Female",
         "48",
         "Kinesthetic",
         "14",
         "Yes",
         "100",
         "69",
         "66",
         "Yes",
         "High",
         "9",
         "8",
         "C",
         "235",
         "78.33333333333333"
        ],
        [
         "1",
         "29",
         "Female",
         "30",
         "Reading/Writing",
         "20",
         "No",
         "71",
         "40",
         "57",
         "Yes",
         "Medium",
         "28",
         "8",
         "D",
         "168",
         "56.0"
        ],
        [
         "2",
         "20",
         "Female",
         "47",
         "Kinesthetic",
         "11",
         "No",
         "60",
         "43",
         "79",
         "Yes",
         "Low",
         "13",
         "7",
         "D",
         "182",
         "60.666666666666664"
        ],
        [
         "3",
         "23",
         "Female",
         "13",
         "Auditory",
         "0",
         "Yes",
         "63",
         "70",
         "60",
         "Yes",
         "Low",
         "24",
         "10",
         "B",
         "193",
         "64.33333333333333"
        ],
        [
         "4",
         "19",
         "Female",
         "24",
         "Auditory",
         "19",
         "Yes",
         "59",
         "63",
         "93",
         "Yes",
         "Medium",
         "26",
         "8",
         "C",
         "215",
         "71.66666666666667"
        ]
       ],
       "shape": {
        "columns": 16,
        "rows": 5
       }
      },
      "text/html": [
       "<div>\n",
       "<style scoped>\n",
       "    .dataframe tbody tr th:only-of-type {\n",
       "        vertical-align: middle;\n",
       "    }\n",
       "\n",
       "    .dataframe tbody tr th {\n",
       "        vertical-align: top;\n",
       "    }\n",
       "\n",
       "    .dataframe thead th {\n",
       "        text-align: right;\n",
       "    }\n",
       "</style>\n",
       "<table border=\"1\" class=\"dataframe\">\n",
       "  <thead>\n",
       "    <tr style=\"text-align: right;\">\n",
       "      <th></th>\n",
       "      <th>Age</th>\n",
       "      <th>Gender</th>\n",
       "      <th>Study_Hours_per_Week</th>\n",
       "      <th>Preferred_Learning_Style</th>\n",
       "      <th>Online_Courses_Completed</th>\n",
       "      <th>Participation_in_Discussions</th>\n",
       "      <th>Assignment_Completion_Rate (%)</th>\n",
       "      <th>Exam_Score (%)</th>\n",
       "      <th>Attendance_Rate (%)</th>\n",
       "      <th>Use_of_Educational_Tech</th>\n",
       "      <th>Self_Reported_Stress_Level</th>\n",
       "      <th>Time_Spent_on_Social_Media (hours/week)</th>\n",
       "      <th>Sleep_Hours_per_Night</th>\n",
       "      <th>Final_Grade</th>\n",
       "      <th>total score</th>\n",
       "      <th>average</th>\n",
       "    </tr>\n",
       "  </thead>\n",
       "  <tbody>\n",
       "    <tr>\n",
       "      <th>0</th>\n",
       "      <td>18</td>\n",
       "      <td>Female</td>\n",
       "      <td>48</td>\n",
       "      <td>Kinesthetic</td>\n",
       "      <td>14</td>\n",
       "      <td>Yes</td>\n",
       "      <td>100</td>\n",
       "      <td>69</td>\n",
       "      <td>66</td>\n",
       "      <td>Yes</td>\n",
       "      <td>High</td>\n",
       "      <td>9</td>\n",
       "      <td>8</td>\n",
       "      <td>C</td>\n",
       "      <td>235</td>\n",
       "      <td>78.333333</td>\n",
       "    </tr>\n",
       "    <tr>\n",
       "      <th>1</th>\n",
       "      <td>29</td>\n",
       "      <td>Female</td>\n",
       "      <td>30</td>\n",
       "      <td>Reading/Writing</td>\n",
       "      <td>20</td>\n",
       "      <td>No</td>\n",
       "      <td>71</td>\n",
       "      <td>40</td>\n",
       "      <td>57</td>\n",
       "      <td>Yes</td>\n",
       "      <td>Medium</td>\n",
       "      <td>28</td>\n",
       "      <td>8</td>\n",
       "      <td>D</td>\n",
       "      <td>168</td>\n",
       "      <td>56.000000</td>\n",
       "    </tr>\n",
       "    <tr>\n",
       "      <th>2</th>\n",
       "      <td>20</td>\n",
       "      <td>Female</td>\n",
       "      <td>47</td>\n",
       "      <td>Kinesthetic</td>\n",
       "      <td>11</td>\n",
       "      <td>No</td>\n",
       "      <td>60</td>\n",
       "      <td>43</td>\n",
       "      <td>79</td>\n",
       "      <td>Yes</td>\n",
       "      <td>Low</td>\n",
       "      <td>13</td>\n",
       "      <td>7</td>\n",
       "      <td>D</td>\n",
       "      <td>182</td>\n",
       "      <td>60.666667</td>\n",
       "    </tr>\n",
       "    <tr>\n",
       "      <th>3</th>\n",
       "      <td>23</td>\n",
       "      <td>Female</td>\n",
       "      <td>13</td>\n",
       "      <td>Auditory</td>\n",
       "      <td>0</td>\n",
       "      <td>Yes</td>\n",
       "      <td>63</td>\n",
       "      <td>70</td>\n",
       "      <td>60</td>\n",
       "      <td>Yes</td>\n",
       "      <td>Low</td>\n",
       "      <td>24</td>\n",
       "      <td>10</td>\n",
       "      <td>B</td>\n",
       "      <td>193</td>\n",
       "      <td>64.333333</td>\n",
       "    </tr>\n",
       "    <tr>\n",
       "      <th>4</th>\n",
       "      <td>19</td>\n",
       "      <td>Female</td>\n",
       "      <td>24</td>\n",
       "      <td>Auditory</td>\n",
       "      <td>19</td>\n",
       "      <td>Yes</td>\n",
       "      <td>59</td>\n",
       "      <td>63</td>\n",
       "      <td>93</td>\n",
       "      <td>Yes</td>\n",
       "      <td>Medium</td>\n",
       "      <td>26</td>\n",
       "      <td>8</td>\n",
       "      <td>C</td>\n",
       "      <td>215</td>\n",
       "      <td>71.666667</td>\n",
       "    </tr>\n",
       "  </tbody>\n",
       "</table>\n",
       "</div>"
      ],
      "text/plain": [
       "   Age  Gender  Study_Hours_per_Week Preferred_Learning_Style  \\\n",
       "0   18  Female                    48              Kinesthetic   \n",
       "1   29  Female                    30          Reading/Writing   \n",
       "2   20  Female                    47              Kinesthetic   \n",
       "3   23  Female                    13                 Auditory   \n",
       "4   19  Female                    24                 Auditory   \n",
       "\n",
       "   Online_Courses_Completed Participation_in_Discussions  \\\n",
       "0                        14                          Yes   \n",
       "1                        20                           No   \n",
       "2                        11                           No   \n",
       "3                         0                          Yes   \n",
       "4                        19                          Yes   \n",
       "\n",
       "   Assignment_Completion_Rate (%)  Exam_Score (%)  Attendance_Rate (%)  \\\n",
       "0                             100              69                   66   \n",
       "1                              71              40                   57   \n",
       "2                              60              43                   79   \n",
       "3                              63              70                   60   \n",
       "4                              59              63                   93   \n",
       "\n",
       "  Use_of_Educational_Tech Self_Reported_Stress_Level  \\\n",
       "0                     Yes                       High   \n",
       "1                     Yes                     Medium   \n",
       "2                     Yes                        Low   \n",
       "3                     Yes                        Low   \n",
       "4                     Yes                     Medium   \n",
       "\n",
       "   Time_Spent_on_Social_Media (hours/week)  Sleep_Hours_per_Night Final_Grade  \\\n",
       "0                                        9                      8           C   \n",
       "1                                       28                      8           D   \n",
       "2                                       13                      7           D   \n",
       "3                                       24                     10           B   \n",
       "4                                       26                      8           C   \n",
       "\n",
       "   total score    average  \n",
       "0          235  78.333333  \n",
       "1          168  56.000000  \n",
       "2          182  60.666667  \n",
       "3          193  64.333333  \n",
       "4          215  71.666667  "
      ]
     },
     "execution_count": 43,
     "metadata": {},
     "output_type": "execute_result"
    }
   ],
   "source": [
    "df['total score'] = df['Assignment_Completion_Rate (%)'] + df['Exam_Score (%)'] + df['Attendance_Rate (%)']\n",
    "df['average'] = df['total score']/3\n",
    "df.head()"
   ]
  },
  {
   "cell_type": "markdown",
   "metadata": {},
   "source": [
    "### Visualizations"
   ]
  },
  {
   "cell_type": "code",
   "execution_count": 44,
   "metadata": {},
   "outputs": [],
   "source": [
    "fig, axs = plt.subplots(1, 2, figsize=(15, 7))"
   ]
  },
  {
   "cell_type": "markdown",
   "metadata": {},
   "source": [
    "### Histograms for each column"
   ]
  },
  {
   "cell_type": "code",
   "execution_count": 45,
   "metadata": {},
   "outputs": [
    {
     "data": {
      "image/png": "[encoded data removed]",
      "text/plain": [
       "<Figure size 1500x700 with 2 Axes>"
      ]
     },
     "metadata": {},
     "output_type": "display_data"
    },
    {
     "data": {
      "image/png": "[encoded data removed]",
      "text/plain": [
       "<Figure size 1500x700 with 2 Axes>"
      ]
     },
     "metadata": {},
     "output_type": "display_data"
    }
   ],
   "source": [
    "\n",
    "plt.subplot(121)\n",
    "sns.histplot(data=df,x='average',bins=30,kde=True,color='g')\n",
    "plt.subplot(122)\n",
    "sns.histplot(data=df,x='average',kde=True,hue='Final_Grade')\n",
    "plt.show()"
   ]
  },
  {
   "cell_type": "code",
   "execution_count": 46,
   "metadata": {},
   "outputs": [
    {
     "data": {
      "image/png": "[encoded data removed]",
      "text/plain": [
       "<Figure size 1500x1200 with 8 Axes>"
      ]
     },
     "metadata": {},
     "output_type": "display_data"
    }
   ],
   "source": [
    "num_cols = len(numerical_df.columns)\n",
    "rows = int(np.ceil(num_cols / 3))  # Adjust rows dynamically\n",
    "cols = min(3, num_cols)  # Maximum 3 columns\n",
    "\n",
    "plt.figure(figsize=(5 * cols, 4 * rows))  # Adjust figure size\n",
    "\n",
    "# Histograms for each column\n",
    "for i, column in enumerate(numerical_df.columns, 1):\n",
    "    plt.subplot(rows, cols, i)\n",
    "    sns.histplot(numerical_df[column], kde=True, color='blue')\n",
    "    plt.title(f'Distribution of {column}')\n",
    "\n",
    "plt.tight_layout()  # Prevent overlap\n",
    "\n",
    "plt.show()"
   ]
  },
  {
   "cell_type": "markdown",
   "metadata": {},
   "source": [
    "### Boxplots for each column"
   ]
  },
  {
   "cell_type": "code",
   "execution_count": 47,
   "metadata": {},
   "outputs": [
    {
     "data": {
      "image/png": "[encoded data removed]",
      "text/plain": [
       "<Figure size 1500x1200 with 8 Axes>"
      ]
     },
     "metadata": {},
     "output_type": "display_data"
    }
   ],
   "source": [
    "\n",
    "num_cols = len(numerical_df.columns)\n",
    "rows = int(np.ceil(num_cols / 3))  # Dynamically calculate the number of rows\n",
    "cols = min(3, num_cols)  # Ensure we don't exceed 3 columns\n",
    "\n",
    "plt.figure(figsize=(5 * cols, 4 * rows))  # Adjust figure size dynamically\n",
    "\n",
    "for i, column in enumerate(numerical_df.columns, 1):\n",
    "    plt.subplot(rows, cols, i)  # Use dynamic rows & cols\n",
    "    sns.boxplot(y=numerical_df[column], color='orange')\n",
    "    plt.title(f'Boxplot of {column}')\n",
    "\n",
    "plt.tight_layout()  # Prevent overlap\n",
    "\n",
    "plt.show()"
   ]
  },
  {
   "cell_type": "markdown",
   "metadata": {},
   "source": [
    "### Compute correlation matrix"
   ]
  },
  {
   "cell_type": "code",
   "execution_count": 48,
   "metadata": {},
   "outputs": [
    {
     "name": "stdout",
     "output_type": "stream",
     "text": [
      "Correlation Table:\n",
      "                                              Age  Study_Hours_per_Week  \\\n",
      "Age                                      1.000000             -0.002108   \n",
      "Study_Hours_per_Week                    -0.002108              1.000000   \n",
      "Online_Courses_Completed                -0.004895              0.025951   \n",
      "Assignment_Completion_Rate (%)          -0.006275              0.000894   \n",
      "Exam_Score (%)                           0.001693              0.004084   \n",
      "Attendance_Rate (%)                     -0.014050              0.007768   \n",
      "Time_Spent_on_Social_Media (hours/week)  0.012660              0.010380   \n",
      "Sleep_Hours_per_Night                    0.012052              0.010908   \n",
      "\n",
      "                                         Online_Courses_Completed  \\\n",
      "Age                                                     -0.004895   \n",
      "Study_Hours_per_Week                                     0.025951   \n",
      "Online_Courses_Completed                                 1.000000   \n",
      "Assignment_Completion_Rate (%)                          -0.000654   \n",
      "Exam_Score (%)                                           0.002070   \n",
      "Attendance_Rate (%)                                      0.001067   \n",
      "Time_Spent_on_Social_Media (hours/week)                  0.002619   \n",
      "Sleep_Hours_per_Night                                   -0.008139   \n",
      "\n",
      "                                         Assignment_Completion_Rate (%)  \\\n",
      "Age                                                           -0.006275   \n",
      "Study_Hours_per_Week                                           0.000894   \n",
      "Online_Courses_Completed                                      -0.000654   \n",
      "Assignment_Completion_Rate (%)                                 1.000000   \n",
      "Exam_Score (%)                                                 0.010470   \n",
      "Attendance_Rate (%)                                            0.000026   \n",
      "Time_Spent_on_Social_Media (hours/week)                        0.007933   \n",
      "Sleep_Hours_per_Night                                          0.009544   \n",
      "\n",
      "                                         Exam_Score (%)  Attendance_Rate (%)  \\\n",
      "Age                                            0.001693            -0.014050   \n",
      "Study_Hours_per_Week                           0.004084             0.007768   \n",
      "Online_Courses_Completed                       0.002070             0.001067   \n",
      "Assignment_Completion_Rate (%)                 0.010470             0.000026   \n",
      "Exam_Score (%)                                 1.000000             0.003717   \n",
      "Attendance_Rate (%)                            0.003717             1.000000   \n",
      "Time_Spent_on_Social_Media (hours/week)        0.000818            -0.013386   \n",
      "Sleep_Hours_per_Night                         -0.016284            -0.005105   \n",
      "\n",
      "                                         Time_Spent_on_Social_Media (hours/week)  \\\n",
      "Age                                                                     0.012660   \n",
      "Study_Hours_per_Week                                                    0.010380   \n",
      "Online_Courses_Completed                                                0.002619   \n",
      "Assignment_Completion_Rate (%)                                          0.007933   \n",
      "Exam_Score (%)                                                          0.000818   \n",
      "Attendance_Rate (%)                                                    -0.013386   \n",
      "Time_Spent_on_Social_Media (hours/week)                                 1.000000   \n",
      "Sleep_Hours_per_Night                                                  -0.001699   \n",
      "\n",
      "                                         Sleep_Hours_per_Night  \n",
      "Age                                                   0.012052  \n",
      "Study_Hours_per_Week                                  0.010908  \n",
      "Online_Courses_Completed                             -0.008139  \n",
      "Assignment_Completion_Rate (%)                        0.009544  \n",
      "Exam_Score (%)                                       -0.016284  \n",
      "Attendance_Rate (%)                                  -0.005105  \n",
      "Time_Spent_on_Social_Media (hours/week)              -0.001699  \n",
      "Sleep_Hours_per_Night                                 1.000000  \n"
     ]
    }
   ],
   "source": [
    "\n",
    "correlation_table = numerical_df.corr()  # Pearson (default)\n",
    "# correlation_table = df.corr(method='spearman')  # Spearman rank correlation\n",
    "\n",
    "print(\"Correlation Table:\")\n",
    "print(correlation_table)"
   ]
  },
  {
   "cell_type": "markdown",
   "metadata": {},
   "source": [
    "### Training A Model"
   ]
  },
  {
   "cell_type": "code",
   "execution_count": 72,
   "metadata": {},
   "outputs": [],
   "source": [
    "# Modelling\n",
    "from sklearn.metrics import mean_squared_error, r2_score\n",
    "from sklearn.neighbors import KNeighborsRegressor\n",
    "from sklearn.tree import DecisionTreeRegressor\n",
    "from sklearn.ensemble import RandomForestRegressor,AdaBoostRegressor\n",
    "from sklearn.svm import SVR\n",
    "from sklearn.linear_model import LinearRegression, Ridge,Lasso\n",
    "from sklearn.tree import plot_tree\n",
    "from sklearn.metrics import r2_score, mean_absolute_error, mean_squared_error\n",
    "from sklearn.model_selection import RandomizedSearchCV\n",
    "from catboost import CatBoostRegressor\n",
    "from xgboost import XGBRegressor\n",
    "from sklearn.preprocessing import LabelEncoder\n",
    "from sklearn.model_selection import train_test_split\n",
    "from sklearn.tree import DecisionTreeClassifier, plot_tree\n",
    "from sklearn.metrics import accuracy_score\n",
    "import warnings"
   ]
  },
  {
   "cell_type": "markdown",
   "metadata": {},
   "source": [
    "### Preparing X and Y variables"
   ]
  },
  {
   "cell_type": "code",
   "execution_count": 60,
   "metadata": {},
   "outputs": [],
   "source": [
    "X = df.drop(columns=['Exam_Score (%)'],axis=1)"
   ]
  },
  {
   "cell_type": "code",
   "execution_count": 61,
   "metadata": {},
   "outputs": [
    {
     "data": {
      "application/vnd.microsoft.datawrangler.viewer.v0+json": {
       "columns": [
        {
         "name": "index",
         "rawType": "int64",
         "type": "integer"
        },
        {
         "name": "Age",
         "rawType": "int64",
         "type": "integer"
        },
        {
         "name": "Gender",
         "rawType": "object",
         "type": "string"
        },
        {
         "name": "Study_Hours_per_Week",
         "rawType": "int64",
         "type": "integer"
        },
        {
         "name": "Preferred_Learning_Style",
         "rawType": "object",
         "type": "string"
        },
        {
         "name": "Online_Courses_Completed",
         "rawType": "int64",
         "type": "integer"
        },
        {
         "name": "Participation_in_Discussions",
         "rawType": "object",
         "type": "string"
        },
        {
         "name": "Assignment_Completion_Rate (%)",
         "rawType": "int64",
         "type": "integer"
        },
        {
         "name": "Attendance_Rate (%)",
         "rawType": "int64",
         "type": "integer"
        },
        {
         "name": "Use_of_Educational_Tech",
         "rawType": "object",
         "type": "string"
        },
        {
         "name": "Self_Reported_Stress_Level",
         "rawType": "object",
         "type": "string"
        },
        {
         "name": "Time_Spent_on_Social_Media (hours/week)",
         "rawType": "int64",
         "type": "integer"
        },
        {
         "name": "Sleep_Hours_per_Night",
         "rawType": "int64",
         "type": "integer"
        },
        {
         "name": "Final_Grade",
         "rawType": "object",
         "type": "string"
        },
        {
         "name": "total score",
         "rawType": "int64",
         "type": "integer"
        },
        {
         "name": "average",
         "rawType": "float64",
         "type": "float"
        }
       ],
       "conversionMethod": "pd.DataFrame",
       "ref": "3707949f-0395-4ae6-94e4-4157c8c21ac5",
       "rows": [
        [
         "0",
         "18",
         "Female",
         "48",
         "Kinesthetic",
         "14",
         "Yes",
         "100",
         "66",
         "Yes",
         "High",
         "9",
         "8",
         "C",
         "235",
         "78.33333333333333"
        ],
        [
         "1",
         "29",
         "Female",
         "30",
         "Reading/Writing",
         "20",
         "No",
         "71",
         "57",
         "Yes",
         "Medium",
         "28",
         "8",
         "D",
         "168",
         "56.0"
        ],
        [
         "2",
         "20",
         "Female",
         "47",
         "Kinesthetic",
         "11",
         "No",
         "60",
         "79",
         "Yes",
         "Low",
         "13",
         "7",
         "D",
         "182",
         "60.666666666666664"
        ],
        [
         "3",
         "23",
         "Female",
         "13",
         "Auditory",
         "0",
         "Yes",
         "63",
         "60",
         "Yes",
         "Low",
         "24",
         "10",
         "B",
         "193",
         "64.33333333333333"
        ],
        [
         "4",
         "19",
         "Female",
         "24",
         "Auditory",
         "19",
         "Yes",
         "59",
         "93",
         "Yes",
         "Medium",
         "26",
         "8",
         "C",
         "215",
         "71.66666666666667"
        ]
       ],
       "shape": {
        "columns": 15,
        "rows": 5
       }
      },
      "text/html": [
       "<div>\n",
       "<style scoped>\n",
       "    .dataframe tbody tr th:only-of-type {\n",
       "        vertical-align: middle;\n",
       "    }\n",
       "\n",
       "    .dataframe tbody tr th {\n",
       "        vertical-align: top;\n",
       "    }\n",
       "\n",
       "    .dataframe thead th {\n",
       "        text-align: right;\n",
       "    }\n",
       "</style>\n",
       "<table border=\"1\" class=\"dataframe\">\n",
       "  <thead>\n",
       "    <tr style=\"text-align: right;\">\n",
       "      <th></th>\n",
       "      <th>Age</th>\n",
       "      <th>Gender</th>\n",
       "      <th>Study_Hours_per_Week</th>\n",
       "      <th>Preferred_Learning_Style</th>\n",
       "      <th>Online_Courses_Completed</th>\n",
       "      <th>Participation_in_Discussions</th>\n",
       "      <th>Assignment_Completion_Rate (%)</th>\n",
       "      <th>Attendance_Rate (%)</th>\n",
       "      <th>Use_of_Educational_Tech</th>\n",
       "      <th>Self_Reported_Stress_Level</th>\n",
       "      <th>Time_Spent_on_Social_Media (hours/week)</th>\n",
       "      <th>Sleep_Hours_per_Night</th>\n",
       "      <th>Final_Grade</th>\n",
       "      <th>total score</th>\n",
       "      <th>average</th>\n",
       "    </tr>\n",
       "  </thead>\n",
       "  <tbody>\n",
       "    <tr>\n",
       "      <th>0</th>\n",
       "      <td>18</td>\n",
       "      <td>Female</td>\n",
       "      <td>48</td>\n",
       "      <td>Kinesthetic</td>\n",
       "      <td>14</td>\n",
       "      <td>Yes</td>\n",
       "      <td>100</td>\n",
       "      <td>66</td>\n",
       "      <td>Yes</td>\n",
       "      <td>High</td>\n",
       "      <td>9</td>\n",
       "      <td>8</td>\n",
       "      <td>C</td>\n",
       "      <td>235</td>\n",
       "      <td>78.333333</td>\n",
       "    </tr>\n",
       "    <tr>\n",
       "      <th>1</th>\n",
       "      <td>29</td>\n",
       "      <td>Female</td>\n",
       "      <td>30</td>\n",
       "      <td>Reading/Writing</td>\n",
       "      <td>20</td>\n",
       "      <td>No</td>\n",
       "      <td>71</td>\n",
       "      <td>57</td>\n",
       "      <td>Yes</td>\n",
       "      <td>Medium</td>\n",
       "      <td>28</td>\n",
       "      <td>8</td>\n",
       "      <td>D</td>\n",
       "      <td>168</td>\n",
       "      <td>56.000000</td>\n",
       "    </tr>\n",
       "    <tr>\n",
       "      <th>2</th>\n",
       "      <td>20</td>\n",
       "      <td>Female</td>\n",
       "      <td>47</td>\n",
       "      <td>Kinesthetic</td>\n",
       "      <td>11</td>\n",
       "      <td>No</td>\n",
       "      <td>60</td>\n",
       "      <td>79</td>\n",
       "      <td>Yes</td>\n",
       "      <td>Low</td>\n",
       "      <td>13</td>\n",
       "      <td>7</td>\n",
       "      <td>D</td>\n",
       "      <td>182</td>\n",
       "      <td>60.666667</td>\n",
       "    </tr>\n",
       "    <tr>\n",
       "      <th>3</th>\n",
       "      <td>23</td>\n",
       "      <td>Female</td>\n",
       "      <td>13</td>\n",
       "      <td>Auditory</td>\n",
       "      <td>0</td>\n",
       "      <td>Yes</td>\n",
       "      <td>63</td>\n",
       "      <td>60</td>\n",
       "      <td>Yes</td>\n",
       "      <td>Low</td>\n",
       "      <td>24</td>\n",
       "      <td>10</td>\n",
       "      <td>B</td>\n",
       "      <td>193</td>\n",
       "      <td>64.333333</td>\n",
       "    </tr>\n",
       "    <tr>\n",
       "      <th>4</th>\n",
       "      <td>19</td>\n",
       "      <td>Female</td>\n",
       "      <td>24</td>\n",
       "      <td>Auditory</td>\n",
       "      <td>19</td>\n",
       "      <td>Yes</td>\n",
       "      <td>59</td>\n",
       "      <td>93</td>\n",
       "      <td>Yes</td>\n",
       "      <td>Medium</td>\n",
       "      <td>26</td>\n",
       "      <td>8</td>\n",
       "      <td>C</td>\n",
       "      <td>215</td>\n",
       "      <td>71.666667</td>\n",
       "    </tr>\n",
       "  </tbody>\n",
       "</table>\n",
       "</div>"
      ],
      "text/plain": [
       "   Age  Gender  Study_Hours_per_Week Preferred_Learning_Style  \\\n",
       "0   18  Female                    48              Kinesthetic   \n",
       "1   29  Female                    30          Reading/Writing   \n",
       "2   20  Female                    47              Kinesthetic   \n",
       "3   23  Female                    13                 Auditory   \n",
       "4   19  Female                    24                 Auditory   \n",
       "\n",
       "   Online_Courses_Completed Participation_in_Discussions  \\\n",
       "0                        14                          Yes   \n",
       "1                        20                           No   \n",
       "2                        11                           No   \n",
       "3                         0                          Yes   \n",
       "4                        19                          Yes   \n",
       "\n",
       "   Assignment_Completion_Rate (%)  Attendance_Rate (%)  \\\n",
       "0                             100                   66   \n",
       "1                              71                   57   \n",
       "2                              60                   79   \n",
       "3                              63                   60   \n",
       "4                              59                   93   \n",
       "\n",
       "  Use_of_Educational_Tech Self_Reported_Stress_Level  \\\n",
       "0                     Yes                       High   \n",
       "1                     Yes                     Medium   \n",
       "2                     Yes                        Low   \n",
       "3                     Yes                        Low   \n",
       "4                     Yes                     Medium   \n",
       "\n",
       "   Time_Spent_on_Social_Media (hours/week)  Sleep_Hours_per_Night Final_Grade  \\\n",
       "0                                        9                      8           C   \n",
       "1                                       28                      8           D   \n",
       "2                                       13                      7           D   \n",
       "3                                       24                     10           B   \n",
       "4                                       26                      8           C   \n",
       "\n",
       "   total score    average  \n",
       "0          235  78.333333  \n",
       "1          168  56.000000  \n",
       "2          182  60.666667  \n",
       "3          193  64.333333  \n",
       "4          215  71.666667  "
      ]
     },
     "execution_count": 61,
     "metadata": {},
     "output_type": "execute_result"
    }
   ],
   "source": [
    "X.head()"
   ]
  },
  {
   "cell_type": "code",
   "execution_count": 58,
   "metadata": {},
   "outputs": [],
   "source": [
    "y = df['Exam_Score (%)']"
   ]
  },
  {
   "cell_type": "code",
   "execution_count": 59,
   "metadata": {},
   "outputs": [
    {
     "data": {
      "text/plain": [
       "0       69\n",
       "1       40\n",
       "2       43\n",
       "3       70\n",
       "4       63\n",
       "        ..\n",
       "9995    58\n",
       "9996    84\n",
       "9997    40\n",
       "9998    45\n",
       "9999    40\n",
       "Name: Exam_Score (%), Length: 10000, dtype: int64"
      ]
     },
     "execution_count": 59,
     "metadata": {},
     "output_type": "execute_result"
    }
   ],
   "source": [
    "y"
   ]
  },
  {
   "cell_type": "markdown",
   "metadata": {},
   "source": [
    "### Create Column Transformer with 3 types of transformers"
   ]
  },
  {
   "cell_type": "code",
   "execution_count": 62,
   "metadata": {},
   "outputs": [],
   "source": [
    "\n",
    "num_features = X.select_dtypes(exclude=\"object\").columns\n",
    "cat_features = X.select_dtypes(include=\"object\").columns\n",
    "\n",
    "from sklearn.preprocessing import OneHotEncoder, StandardScaler\n",
    "from sklearn.compose import ColumnTransformer\n",
    "\n",
    "numeric_transformer = StandardScaler()\n",
    "oh_transformer = OneHotEncoder()\n",
    "\n",
    "preprocessor = ColumnTransformer(\n",
    "    [\n",
    "        (\"OneHotEncoder\", oh_transformer, cat_features),\n",
    "         (\"StandardScaler\", numeric_transformer, num_features),        \n",
    "    ]\n",
    ")"
   ]
  },
  {
   "cell_type": "code",
   "execution_count": 63,
   "metadata": {},
   "outputs": [],
   "source": [
    "X = preprocessor.fit_transform(X)"
   ]
  },
  {
   "cell_type": "code",
   "execution_count": 64,
   "metadata": {},
   "outputs": [
    {
     "data": {
      "text/plain": [
       "(10000, 27)"
      ]
     },
     "execution_count": 64,
     "metadata": {},
     "output_type": "execute_result"
    }
   ],
   "source": [
    "X.shape"
   ]
  },
  {
   "cell_type": "markdown",
   "metadata": {},
   "source": [
    "### separate dataset into train and test"
   ]
  },
  {
   "cell_type": "code",
   "execution_count": 65,
   "metadata": {},
   "outputs": [
    {
     "data": {
      "text/plain": [
       "((8000, 27), (2000, 27))"
      ]
     },
     "execution_count": 65,
     "metadata": {},
     "output_type": "execute_result"
    }
   ],
   "source": [
    "\n",
    "from sklearn.model_selection import train_test_split\n",
    "X_train, X_test, y_train, y_test = train_test_split(X,y,test_size=0.2,random_state=42)\n",
    "X_train.shape, X_test.shape"
   ]
  },
  {
   "cell_type": "markdown",
   "metadata": {},
   "source": [
    "### Create an Evaluate Function to give all metrics after model Training"
   ]
  },
  {
   "cell_type": "code",
   "execution_count": 66,
   "metadata": {},
   "outputs": [],
   "source": [
    "def evaluate_model(true, predicted):\n",
    "    mae = mean_absolute_error(true, predicted)\n",
    "    mse = mean_squared_error(true, predicted)\n",
    "    rmse = np.sqrt(mean_squared_error(true, predicted))\n",
    "    r2_square = r2_score(true, predicted)\n",
    "    return mae, rmse, r2_square"
   ]
  },
  {
   "cell_type": "code",
   "execution_count": 68,
   "metadata": {},
   "outputs": [
    {
     "name": "stdout",
     "output_type": "stream",
     "text": [
      "Collecting xgboostNote: you may need to restart the kernel to use updated packages.\n",
      "\n",
      "  Using cached xgboost-2.1.4-py3-none-win_amd64.whl.metadata (2.1 kB)\n",
      "Requirement already satisfied: numpy in c:\\users\\lenovo--user\\anaconda3\\lib\\site-packages (from xgboost) (1.26.4)\n",
      "Requirement already satisfied: scipy in c:\\users\\lenovo--user\\anaconda3\\lib\\site-packages (from xgboost) (1.13.1)\n",
      "Using cached xgboost-2.1.4-py3-none-win_amd64.whl (124.9 MB)\n",
      "Installing collected packages: xgboost\n",
      "Successfully installed xgboost-2.1.4\n"
     ]
    }
   ],
   "source": [
    "pip install xgboost\n"
   ]
  },
  {
   "cell_type": "code",
   "execution_count": 73,
   "metadata": {},
   "outputs": [
    {
     "name": "stdout",
     "output_type": "stream",
     "text": [
      "Linear Regression\n",
      "Model performance for Training set\n",
      "- Root Mean Squared Error: 0.0000\n",
      "- Mean Absolute Error: 0.0000\n",
      "- R2 Score: 1.0000\n",
      "----------------------------------\n",
      "Model performance for Test set\n",
      "- Root Mean Squared Error: 0.0000\n",
      "- Mean Absolute Error: 0.0000\n",
      "- R2 Score: 1.0000\n",
      "===================================\n",
      "\n",
      "\n",
      "Lasso\n",
      "Model performance for Training set\n",
      "- Root Mean Squared Error: 3.5694\n",
      "- Mean Absolute Error: 3.0270\n",
      "- R2 Score: 0.9591\n",
      "----------------------------------\n",
      "Model performance for Test set\n",
      "- Root Mean Squared Error: 3.6161\n",
      "- Mean Absolute Error: 3.0831\n",
      "- R2 Score: 0.9580\n",
      "===================================\n",
      "\n",
      "\n",
      "Ridge\n",
      "Model performance for Training set\n",
      "- Root Mean Squared Error: 0.0226\n",
      "- Mean Absolute Error: 0.0195\n",
      "- R2 Score: 1.0000\n",
      "----------------------------------\n",
      "Model performance for Test set\n",
      "- Root Mean Squared Error: 0.0224\n",
      "- Mean Absolute Error: 0.0192\n",
      "- R2 Score: 1.0000\n",
      "===================================\n",
      "\n",
      "\n",
      "K-Neighbors Regressor\n",
      "Model performance for Training set\n",
      "- Root Mean Squared Error: 4.3605\n",
      "- Mean Absolute Error: 3.5200\n",
      "- R2 Score: 0.9389\n",
      "----------------------------------\n",
      "Model performance for Test set\n",
      "- Root Mean Squared Error: 5.3856\n",
      "- Mean Absolute Error: 4.3233\n",
      "- R2 Score: 0.9069\n",
      "===================================\n",
      "\n",
      "\n",
      "Decision Tree\n",
      "Model performance for Training set\n",
      "- Root Mean Squared Error: 0.0000\n",
      "- Mean Absolute Error: 0.0000\n",
      "- R2 Score: 1.0000\n",
      "----------------------------------\n",
      "Model performance for Test set\n",
      "- Root Mean Squared Error: 3.4323\n",
      "- Mean Absolute Error: 2.6345\n",
      "- R2 Score: 0.9622\n",
      "===================================\n",
      "\n",
      "\n",
      "Random Forest Regressor\n",
      "Model performance for Training set\n",
      "- Root Mean Squared Error: 0.8721\n",
      "- Mean Absolute Error: 0.7188\n",
      "- R2 Score: 0.9976\n",
      "----------------------------------\n",
      "Model performance for Test set\n",
      "- Root Mean Squared Error: 2.2771\n",
      "- Mean Absolute Error: 1.8685\n",
      "- R2 Score: 0.9834\n",
      "===================================\n",
      "\n",
      "\n",
      "XGBRegressor\n",
      "Model performance for Training set\n",
      "- Root Mean Squared Error: 0.6204\n",
      "- Mean Absolute Error: 0.4856\n",
      "- R2 Score: 0.9988\n",
      "----------------------------------\n",
      "Model performance for Test set\n",
      "- Root Mean Squared Error: 1.3910\n",
      "- Mean Absolute Error: 1.0793\n",
      "- R2 Score: 0.9938\n",
      "===================================\n",
      "\n",
      "\n",
      "CatBoosting Regressor\n",
      "Model performance for Training set\n",
      "- Root Mean Squared Error: 0.8279\n",
      "- Mean Absolute Error: 0.6878\n",
      "- R2 Score: 0.9978\n",
      "----------------------------------\n",
      "Model performance for Test set\n",
      "- Root Mean Squared Error: 0.9755\n",
      "- Mean Absolute Error: 0.8085\n",
      "- R2 Score: 0.9969\n",
      "===================================\n",
      "\n",
      "\n",
      "AdaBoost Regressor\n",
      "Model performance for Training set\n",
      "- Root Mean Squared Error: 4.3933\n",
      "- Mean Absolute Error: 3.8003\n",
      "- R2 Score: 0.9380\n",
      "----------------------------------\n",
      "Model performance for Test set\n",
      "- Root Mean Squared Error: 4.3510\n",
      "- Mean Absolute Error: 3.7385\n",
      "- R2 Score: 0.9393\n",
      "===================================\n",
      "\n",
      "\n"
     ]
    }
   ],
   "source": [
    "models = {\n",
    "    \"Linear Regression\": LinearRegression(),\n",
    "    \"Lasso\": Lasso(),\n",
    "    \"Ridge\": Ridge(),\n",
    "    \"K-Neighbors Regressor\": KNeighborsRegressor(),\n",
    "    \"Decision Tree\": DecisionTreeRegressor(),\n",
    "    \"Random Forest Regressor\": RandomForestRegressor(),\n",
    "    \"XGBRegressor\": XGBRegressor(), \n",
    "    \"CatBoosting Regressor\": CatBoostRegressor(verbose=False),\n",
    "    \"AdaBoost Regressor\": AdaBoostRegressor()\n",
    "}\n",
    "model_list = []\n",
    "r2_list =[]\n",
    "\n",
    "for i in range(len(list(models))):\n",
    "    model = list(models.values())[i]\n",
    "    model.fit(X_train, y_train) # Train model\n",
    "\n",
    "    # Make predictions\n",
    "    y_train_pred = model.predict(X_train)\n",
    "    y_test_pred = model.predict(X_test)\n",
    "    \n",
    "    # Evaluate Train and Test dataset\n",
    "    model_train_mae , model_train_rmse, model_train_r2 = evaluate_model(y_train, y_train_pred)\n",
    "\n",
    "    model_test_mae , model_test_rmse, model_test_r2 = evaluate_model(y_test, y_test_pred)\n",
    "\n",
    "    \n",
    "    print(list(models.keys())[i])\n",
    "    model_list.append(list(models.keys())[i])\n",
    "    \n",
    "    print('Model performance for Training set')\n",
    "    print(\"- Root Mean Squared Error: {:.4f}\".format(model_train_rmse))\n",
    "    print(\"- Mean Absolute Error: {:.4f}\".format(model_train_mae))\n",
    "    print(\"- R2 Score: {:.4f}\".format(model_train_r2))\n",
    "\n",
    "    print('----------------------------------')\n",
    "    \n",
    "    print('Model performance for Test set')\n",
    "    print(\"- Root Mean Squared Error: {:.4f}\".format(model_test_rmse))\n",
    "    print(\"- Mean Absolute Error: {:.4f}\".format(model_test_mae))\n",
    "    print(\"- R2 Score: {:.4f}\".format(model_test_r2))\n",
    "    r2_list.append(model_test_r2)\n",
    "    \n",
    "    print('='*35)\n",
    "    print('\\n')"
   ]
  },
  {
   "cell_type": "markdown",
   "metadata": {},
   "source": [
    "### RESULTS"
   ]
  },
  {
   "cell_type": "code",
   "execution_count": 74,
   "metadata": {},
   "outputs": [
    {
     "data": {
      "application/vnd.microsoft.datawrangler.viewer.v0+json": {
       "columns": [
        {
         "name": "index",
         "rawType": "int64",
         "type": "integer"
        },
        {
         "name": "Model Name",
         "rawType": "object",
         "type": "string"
        },
        {
         "name": "R2_Score",
         "rawType": "float64",
         "type": "float"
        }
       ],
       "conversionMethod": "pd.DataFrame",
       "ref": "782eb356-5a2e-41fe-ba17-e8cbbd41104b",
       "rows": [
        [
         "0",
         "Linear Regression",
         "1.0"
        ],
        [
         "2",
         "Ridge",
         "0.9999983969928601"
        ],
        [
         "7",
         "CatBoosting Regressor",
         "0.9969474308243014"
        ],
        [
         "6",
         "XGBRegressor",
         "0.9937928318977356"
        ],
        [
         "5",
         "Random Forest Regressor",
         "0.9833659622006248"
        ],
        [
         "4",
         "Decision Tree",
         "0.9622067410590099"
        ],
        [
         "1",
         "Lasso",
         "0.958048963411603"
        ],
        [
         "8",
         "AdaBoost Regressor",
         "0.9392663186835979"
        ],
        [
         "3",
         "K-Neighbors Regressor",
         "0.9069491820324732"
        ]
       ],
       "shape": {
        "columns": 2,
        "rows": 9
       }
      },
      "text/html": [
       "<div>\n",
       "<style scoped>\n",
       "    .dataframe tbody tr th:only-of-type {\n",
       "        vertical-align: middle;\n",
       "    }\n",
       "\n",
       "    .dataframe tbody tr th {\n",
       "        vertical-align: top;\n",
       "    }\n",
       "\n",
       "    .dataframe thead th {\n",
       "        text-align: right;\n",
       "    }\n",
       "</style>\n",
       "<table border=\"1\" class=\"dataframe\">\n",
       "  <thead>\n",
       "    <tr style=\"text-align: right;\">\n",
       "      <th></th>\n",
       "      <th>Model Name</th>\n",
       "      <th>R2_Score</th>\n",
       "    </tr>\n",
       "  </thead>\n",
       "  <tbody>\n",
       "    <tr>\n",
       "      <th>0</th>\n",
       "      <td>Linear Regression</td>\n",
       "      <td>1.000000</td>\n",
       "    </tr>\n",
       "    <tr>\n",
       "      <th>2</th>\n",
       "      <td>Ridge</td>\n",
       "      <td>0.999998</td>\n",
       "    </tr>\n",
       "    <tr>\n",
       "      <th>7</th>\n",
       "      <td>CatBoosting Regressor</td>\n",
       "      <td>0.996947</td>\n",
       "    </tr>\n",
       "    <tr>\n",
       "      <th>6</th>\n",
       "      <td>XGBRegressor</td>\n",
       "      <td>0.993793</td>\n",
       "    </tr>\n",
       "    <tr>\n",
       "      <th>5</th>\n",
       "      <td>Random Forest Regressor</td>\n",
       "      <td>0.983366</td>\n",
       "    </tr>\n",
       "    <tr>\n",
       "      <th>4</th>\n",
       "      <td>Decision Tree</td>\n",
       "      <td>0.962207</td>\n",
       "    </tr>\n",
       "    <tr>\n",
       "      <th>1</th>\n",
       "      <td>Lasso</td>\n",
       "      <td>0.958049</td>\n",
       "    </tr>\n",
       "    <tr>\n",
       "      <th>8</th>\n",
       "      <td>AdaBoost Regressor</td>\n",
       "      <td>0.939266</td>\n",
       "    </tr>\n",
       "    <tr>\n",
       "      <th>3</th>\n",
       "      <td>K-Neighbors Regressor</td>\n",
       "      <td>0.906949</td>\n",
       "    </tr>\n",
       "  </tbody>\n",
       "</table>\n",
       "</div>"
      ],
      "text/plain": [
       "                Model Name  R2_Score\n",
       "0        Linear Regression  1.000000\n",
       "2                    Ridge  0.999998\n",
       "7    CatBoosting Regressor  0.996947\n",
       "6             XGBRegressor  0.993793\n",
       "5  Random Forest Regressor  0.983366\n",
       "4            Decision Tree  0.962207\n",
       "1                    Lasso  0.958049\n",
       "8       AdaBoost Regressor  0.939266\n",
       "3    K-Neighbors Regressor  0.906949"
      ]
     },
     "execution_count": 74,
     "metadata": {},
     "output_type": "execute_result"
    }
   ],
   "source": [
    "pd.DataFrame(list(zip(model_list, r2_list)), columns=['Model Name', 'R2_Score']).sort_values(by=[\"R2_Score\"],ascending=False)"
   ]
  },
  {
   "cell_type": "markdown",
   "metadata": {},
   "source": [
    "## Linear Regression"
   ]
  },
  {
   "cell_type": "code",
   "execution_count": null,
   "metadata": {},
   "outputs": [
    {
     "name": "stdout",
     "output_type": "stream",
     "text": [
      " Accuracy of the model is 100.00\n"
     ]
    }
   ],
   "source": [
    "lin_model = LinearRegression(fit_intercept=True)\n",
    "lin_model = lin_model.fit(X_train, y_train)\n",
    "y_pred = lin_model.predict(X_test)\n",
    "score = r2_score(y_test, y_pred)*100\n",
    "print(\" Accuracy of the model is %.2f\" %score)"
   ]
  },
  {
   "cell_type": "markdown",
   "metadata": {},
   "source": [
    "## Plot y_pred and y_test"
   ]
  },
  {
   "cell_type": "code",
   "execution_count": null,
   "metadata": {},
   "outputs": [
    {
     "data": {
      "image/png": "[encoded data removed]",
      "text/plain": [
       "<Figure size 640x480 with 1 Axes>"
      ]
     },
     "metadata": {},
     "output_type": "display_data"
    }
   ],
   "source": [
    "plt.scatter(y_test,y_pred)\n",
    "plt.xlabel('Actual')\n",
    "plt.ylabel('Predicted')\n",
    "plt.show()"
   ]
  },
  {
   "cell_type": "code",
   "execution_count": 84,
   "metadata": {},
   "outputs": [
    {
     "data": {
      "image/png": "[encoded data removed]",
      "text/plain": [
       "<Figure size 640x480 with 1 Axes>"
      ]
     },
     "metadata": {},
     "output_type": "display_data"
    }
   ],
   "source": [
    "sns.regplot(x=y_test,y=y_pred,ci=None,color ='blue')\n",
    "plt.show()"
   ]
  },
  {
   "cell_type": "markdown",
   "metadata": {},
   "source": [
    "### Difference between Actual and Predicted Values"
   ]
  },
  {
   "cell_type": "code",
   "execution_count": 86,
   "metadata": {},
   "outputs": [
    {
     "data": {
      "application/vnd.microsoft.datawrangler.viewer.v0+json": {
       "columns": [
        {
         "name": "index",
         "rawType": "int64",
         "type": "integer"
        },
        {
         "name": "Actual Value",
         "rawType": "int64",
         "type": "integer"
        },
        {
         "name": "Predicted Value",
         "rawType": "float64",
         "type": "float"
        },
        {
         "name": "Difference",
         "rawType": "float64",
         "type": "float"
        }
       ],
       "conversionMethod": "pd.DataFrame",
       "ref": "97f9c0b4-d586-482c-967f-8a12b68a1a77",
       "rows": [
        [
         "6252",
         "94",
         "93.99999999999999",
         "1.4210854715202004e-14"
        ],
        [
         "4684",
         "46",
         "46.00000000000007",
         "-7.105427357601002e-14"
        ],
        [
         "1731",
         "56",
         "56.00000000000001",
         "-7.105427357601002e-15"
        ],
        [
         "4742",
         "81",
         "80.99999999999999",
         "1.4210854715202004e-14"
        ],
        [
         "4521",
         "68",
         "68.00000000000001",
         "-1.4210854715202004e-14"
        ],
        [
         "6340",
         "88",
         "88.0",
         "0.0"
        ],
        [
         "576",
         "47",
         "47.000000000000064",
         "-6.394884621840902e-14"
        ],
        [
         "5202",
         "49",
         "49.00000000000006",
         "-5.684341886080802e-14"
        ],
        [
         "6363",
         "77",
         "76.99999999999999",
         "1.4210854715202004e-14"
        ],
        [
         "439",
         "94",
         "94.0",
         "0.0"
        ],
        [
         "2750",
         "41",
         "41.000000000000064",
         "-6.394884621840902e-14"
        ],
        [
         "7487",
         "69",
         "69.00000000000003",
         "-2.842170943040401e-14"
        ],
        [
         "5272",
         "99",
         "98.99999999999999",
         "1.4210854715202004e-14"
        ],
        [
         "5653",
         "96",
         "95.99999999999997",
         "2.842170943040401e-14"
        ],
        [
         "3999",
         "46",
         "46.00000000000006",
         "-5.684341886080802e-14"
        ],
        [
         "6033",
         "87",
         "86.99999999999996",
         "4.263256414560601e-14"
        ],
        [
         "582",
         "75",
         "74.99999999999999",
         "1.4210854715202004e-14"
        ],
        [
         "9930",
         "100",
         "100.0",
         "0.0"
        ],
        [
         "7051",
         "69",
         "69.00000000000006",
         "-5.684341886080802e-14"
        ],
        [
         "8158",
         "69",
         "69.00000000000004",
         "-4.263256414560601e-14"
        ],
        [
         "9896",
         "58",
         "58.00000000000002",
         "-2.1316282072803006e-14"
        ],
        [
         "2249",
         "71",
         "70.99999999999999",
         "1.4210854715202004e-14"
        ],
        [
         "4640",
         "43",
         "43.00000000000003",
         "-2.842170943040401e-14"
        ],
        [
         "9485",
         "86",
         "85.99999999999999",
         "1.4210854715202004e-14"
        ],
        [
         "4947",
         "55",
         "55.000000000000014",
         "-1.4210854715202004e-14"
        ],
        [
         "9920",
         "44",
         "44.00000000000007",
         "-7.105427357601002e-14"
        ],
        [
         "1963",
         "59",
         "59.00000000000004",
         "-4.263256414560601e-14"
        ],
        [
         "8243",
         "46",
         "46.00000000000007",
         "-7.105427357601002e-14"
        ],
        [
         "6590",
         "51",
         "51.00000000000006",
         "-5.684341886080802e-14"
        ],
        [
         "8847",
         "83",
         "82.99999999999999",
         "1.4210854715202004e-14"
        ],
        [
         "321",
         "100",
         "99.99999999999997",
         "2.842170943040401e-14"
        ],
        [
         "2678",
         "96",
         "95.99999999999997",
         "2.842170943040401e-14"
        ],
        [
         "4625",
         "54",
         "54.00000000000006",
         "-5.684341886080802e-14"
        ],
        [
         "4949",
         "55",
         "55.00000000000004",
         "-4.263256414560601e-14"
        ],
        [
         "8328",
         "68",
         "68.00000000000003",
         "-2.842170943040401e-14"
        ],
        [
         "3337",
         "69",
         "69.00000000000003",
         "-2.842170943040401e-14"
        ],
        [
         "5589",
         "71",
         "71.0",
         "0.0"
        ],
        [
         "251",
         "89",
         "88.99999999999996",
         "4.263256414560601e-14"
        ],
        [
         "3973",
         "64",
         "64.00000000000001",
         "-1.4210854715202004e-14"
        ],
        [
         "6630",
         "44",
         "44.00000000000005",
         "-4.973799150320701e-14"
        ],
        [
         "5547",
         "84",
         "83.99999999999999",
         "1.4210854715202004e-14"
        ],
        [
         "35",
         "60",
         "60.00000000000004",
         "-4.263256414560601e-14"
        ],
        [
         "8362",
         "91",
         "90.99999999999999",
         "1.4210854715202004e-14"
        ],
        [
         "1513",
         "62",
         "62.00000000000003",
         "-2.842170943040401e-14"
        ],
        [
         "9317",
         "44",
         "44.00000000000007",
         "-7.105427357601002e-14"
        ],
        [
         "39",
         "65",
         "65.00000000000003",
         "-2.842170943040401e-14"
        ],
        [
         "4819",
         "75",
         "74.99999999999997",
         "2.842170943040401e-14"
        ],
        [
         "3465",
         "73",
         "73.0",
         "0.0"
        ],
        [
         "1760",
         "66",
         "66.00000000000001",
         "-1.4210854715202004e-14"
        ],
        [
         "2304",
         "79",
         "78.99999999999997",
         "2.842170943040401e-14"
        ]
       ],
       "shape": {
        "columns": 3,
        "rows": 2000
       }
      },
      "text/html": [
       "<div>\n",
       "<style scoped>\n",
       "    .dataframe tbody tr th:only-of-type {\n",
       "        vertical-align: middle;\n",
       "    }\n",
       "\n",
       "    .dataframe tbody tr th {\n",
       "        vertical-align: top;\n",
       "    }\n",
       "\n",
       "    .dataframe thead th {\n",
       "        text-align: right;\n",
       "    }\n",
       "</style>\n",
       "<table border=\"1\" class=\"dataframe\">\n",
       "  <thead>\n",
       "    <tr style=\"text-align: right;\">\n",
       "      <th></th>\n",
       "      <th>Actual Value</th>\n",
       "      <th>Predicted Value</th>\n",
       "      <th>Difference</th>\n",
       "    </tr>\n",
       "  </thead>\n",
       "  <tbody>\n",
       "    <tr>\n",
       "      <th>6252</th>\n",
       "      <td>94</td>\n",
       "      <td>94.0</td>\n",
       "      <td>1.421085e-14</td>\n",
       "    </tr>\n",
       "    <tr>\n",
       "      <th>4684</th>\n",
       "      <td>46</td>\n",
       "      <td>46.0</td>\n",
       "      <td>-7.105427e-14</td>\n",
       "    </tr>\n",
       "    <tr>\n",
       "      <th>1731</th>\n",
       "      <td>56</td>\n",
       "      <td>56.0</td>\n",
       "      <td>-7.105427e-15</td>\n",
       "    </tr>\n",
       "    <tr>\n",
       "      <th>4742</th>\n",
       "      <td>81</td>\n",
       "      <td>81.0</td>\n",
       "      <td>1.421085e-14</td>\n",
       "    </tr>\n",
       "    <tr>\n",
       "      <th>4521</th>\n",
       "      <td>68</td>\n",
       "      <td>68.0</td>\n",
       "      <td>-1.421085e-14</td>\n",
       "    </tr>\n",
       "    <tr>\n",
       "      <th>...</th>\n",
       "      <td>...</td>\n",
       "      <td>...</td>\n",
       "      <td>...</td>\n",
       "    </tr>\n",
       "    <tr>\n",
       "      <th>6412</th>\n",
       "      <td>98</td>\n",
       "      <td>98.0</td>\n",
       "      <td>4.263256e-14</td>\n",
       "    </tr>\n",
       "    <tr>\n",
       "      <th>8285</th>\n",
       "      <td>82</td>\n",
       "      <td>82.0</td>\n",
       "      <td>0.000000e+00</td>\n",
       "    </tr>\n",
       "    <tr>\n",
       "      <th>7853</th>\n",
       "      <td>89</td>\n",
       "      <td>89.0</td>\n",
       "      <td>2.842171e-14</td>\n",
       "    </tr>\n",
       "    <tr>\n",
       "      <th>1095</th>\n",
       "      <td>96</td>\n",
       "      <td>96.0</td>\n",
       "      <td>2.842171e-14</td>\n",
       "    </tr>\n",
       "    <tr>\n",
       "      <th>6929</th>\n",
       "      <td>44</td>\n",
       "      <td>44.0</td>\n",
       "      <td>-7.105427e-14</td>\n",
       "    </tr>\n",
       "  </tbody>\n",
       "</table>\n",
       "<p>2000 rows × 3 columns</p>\n",
       "</div>"
      ],
      "text/plain": [
       "      Actual Value  Predicted Value    Difference\n",
       "6252            94             94.0  1.421085e-14\n",
       "4684            46             46.0 -7.105427e-14\n",
       "1731            56             56.0 -7.105427e-15\n",
       "4742            81             81.0  1.421085e-14\n",
       "4521            68             68.0 -1.421085e-14\n",
       "...            ...              ...           ...\n",
       "6412            98             98.0  4.263256e-14\n",
       "8285            82             82.0  0.000000e+00\n",
       "7853            89             89.0  2.842171e-14\n",
       "1095            96             96.0  2.842171e-14\n",
       "6929            44             44.0 -7.105427e-14\n",
       "\n",
       "[2000 rows x 3 columns]"
      ]
     },
     "execution_count": 86,
     "metadata": {},
     "output_type": "execute_result"
    }
   ],
   "source": [
    "pred_df=pd.DataFrame({'Actual Value':y_test,'Predicted Value':y_pred,'Difference':y_test-y_pred})\n",
    "pred_df"
   ]
  },
  {
   "cell_type": "markdown",
   "metadata": {},
   "source": [
    "### Random Forest Regressor"
   ]
  },
  {
   "cell_type": "code",
   "execution_count": 87,
   "metadata": {},
   "outputs": [
    {
     "name": "stdout",
     "output_type": "stream",
     "text": [
      "Accuracy of the Random Forest model is 98.33\n"
     ]
    }
   ],
   "source": [
    "# Initialize and train the Random Forest Regressor\n",
    "rf_model = RandomForestRegressor(n_estimators=100, random_state=42)\n",
    "rf_model.fit(X_train, y_train)\n",
    "\n",
    "# Make predictions\n",
    "y_pred = rf_model.predict(X_test)\n",
    "\n",
    "# Calculate R² score\n",
    "score = r2_score(y_test, y_pred) * 100\n",
    "print(\"Accuracy of the Random Forest model is %.2f\" % score)"
   ]
  },
  {
   "cell_type": "markdown",
   "metadata": {},
   "source": [
    "## Plot y_pred and y_test"
   ]
  },
  {
   "cell_type": "code",
   "execution_count": 88,
   "metadata": {},
   "outputs": [
    {
     "data": {
      "image/png": "[encoded data removed]",
      "text/plain": [
       "<Figure size 640x480 with 1 Axes>"
      ]
     },
     "metadata": {},
     "output_type": "display_data"
    }
   ],
   "source": [
    "plt.scatter(y_test,y_pred)\n",
    "plt.xlabel('Actual')\n",
    "plt.ylabel('Predicted')\n",
    "plt.show()"
   ]
  },
  {
   "cell_type": "code",
   "execution_count": 89,
   "metadata": {},
   "outputs": [
    {
     "data": {
      "image/png": "[encoded data removed]",
      "text/plain": [
       "<Figure size 640x480 with 1 Axes>"
      ]
     },
     "metadata": {},
     "output_type": "display_data"
    }
   ],
   "source": [
    "sns.regplot(x=y_test,y=y_pred,ci=None,color ='blue')\n",
    "plt.show()"
   ]
  },
  {
   "cell_type": "markdown",
   "metadata": {},
   "source": [
    "### Difference between Actual and Predicted Values"
   ]
  },
  {
   "cell_type": "code",
   "execution_count": 90,
   "metadata": {},
   "outputs": [
    {
     "data": {
      "application/vnd.microsoft.datawrangler.viewer.v0+json": {
       "columns": [
        {
         "name": "index",
         "rawType": "int64",
         "type": "integer"
        },
        {
         "name": "Actual Value",
         "rawType": "int64",
         "type": "integer"
        },
        {
         "name": "Predicted Value",
         "rawType": "float64",
         "type": "float"
        },
        {
         "name": "Difference",
         "rawType": "float64",
         "type": "float"
        }
       ],
       "conversionMethod": "pd.DataFrame",
       "ref": "1b6f75d9-46f2-479a-b3e3-8f43ea4bf645",
       "rows": [
        [
         "6252",
         "94",
         "92.51",
         "1.4899999999999949"
        ],
        [
         "4684",
         "46",
         "45.72",
         "0.28000000000000114"
        ],
        [
         "1731",
         "56",
         "58.97",
         "-2.969999999999999"
        ],
        [
         "4742",
         "81",
         "79.35",
         "1.6500000000000057"
        ],
        [
         "4521",
         "68",
         "63.58",
         "4.420000000000002"
        ],
        [
         "6340",
         "88",
         "88.5",
         "-0.5"
        ],
        [
         "576",
         "47",
         "47.77",
         "-0.7700000000000031"
        ],
        [
         "5202",
         "49",
         "49.41",
         "-0.4099999999999966"
        ],
        [
         "6363",
         "77",
         "75.48",
         "1.519999999999996"
        ],
        [
         "439",
         "94",
         "89.39",
         "4.609999999999999"
        ],
        [
         "2750",
         "41",
         "45.65",
         "-4.649999999999999"
        ],
        [
         "7487",
         "69",
         "66.15",
         "2.8499999999999943"
        ],
        [
         "5272",
         "99",
         "97.04",
         "1.9599999999999937"
        ],
        [
         "5653",
         "96",
         "94.89",
         "1.1099999999999994"
        ],
        [
         "3999",
         "46",
         "46.45",
         "-0.45000000000000284"
        ],
        [
         "6033",
         "87",
         "88.89",
         "-1.8900000000000006"
        ],
        [
         "582",
         "75",
         "76.83",
         "-1.8299999999999983"
        ],
        [
         "9930",
         "100",
         "96.84",
         "3.1599999999999966"
        ],
        [
         "7051",
         "69",
         "65.57",
         "3.430000000000007"
        ],
        [
         "8158",
         "69",
         "65.42",
         "3.5799999999999983"
        ],
        [
         "9896",
         "58",
         "57.64",
         "0.35999999999999943"
        ],
        [
         "2249",
         "71",
         "74.42",
         "-3.4200000000000017"
        ],
        [
         "4640",
         "43",
         "44.69",
         "-1.6899999999999977"
        ],
        [
         "9485",
         "86",
         "90.06",
         "-4.060000000000002"
        ],
        [
         "4947",
         "55",
         "59.66",
         "-4.659999999999997"
        ],
        [
         "9920",
         "44",
         "44.28",
         "-0.28000000000000114"
        ],
        [
         "1963",
         "59",
         "62.13",
         "-3.1300000000000026"
        ],
        [
         "8243",
         "46",
         "46.02",
         "-0.020000000000003126"
        ],
        [
         "6590",
         "51",
         "50.67",
         "0.3299999999999983"
        ],
        [
         "8847",
         "83",
         "80.79",
         "2.2099999999999937"
        ],
        [
         "321",
         "100",
         "95.59",
         "4.409999999999997"
        ],
        [
         "2678",
         "96",
         "95.48",
         "0.519999999999996"
        ],
        [
         "4625",
         "54",
         "50.51",
         "3.490000000000002"
        ],
        [
         "4949",
         "55",
         "57.93",
         "-2.9299999999999997"
        ],
        [
         "8328",
         "68",
         "66.16",
         "1.8400000000000034"
        ],
        [
         "3337",
         "69",
         "66.56",
         "2.4399999999999977"
        ],
        [
         "5589",
         "71",
         "73.26",
         "-2.260000000000005"
        ],
        [
         "251",
         "89",
         "91.95",
         "-2.950000000000003"
        ],
        [
         "3973",
         "64",
         "62.63",
         "1.3699999999999974"
        ],
        [
         "6630",
         "44",
         "45.1",
         "-1.1000000000000014"
        ],
        [
         "5547",
         "84",
         "80.83",
         "3.1700000000000017"
        ],
        [
         "35",
         "60",
         "60.62",
         "-0.6199999999999974"
        ],
        [
         "8362",
         "91",
         "92.39",
         "-1.3900000000000006"
        ],
        [
         "1513",
         "62",
         "62.62",
         "-0.6199999999999974"
        ],
        [
         "9317",
         "44",
         "42.34",
         "1.6599999999999966"
        ],
        [
         "39",
         "65",
         "64.36",
         "0.6400000000000006"
        ],
        [
         "4819",
         "75",
         "75.85",
         "-0.8499999999999943"
        ],
        [
         "3465",
         "73",
         "73.33",
         "-0.3299999999999983"
        ],
        [
         "1760",
         "66",
         "64.36",
         "1.6400000000000006"
        ],
        [
         "2304",
         "79",
         "79.53",
         "-0.5300000000000011"
        ]
       ],
       "shape": {
        "columns": 3,
        "rows": 2000
       }
      },
      "text/html": [
       "<div>\n",
       "<style scoped>\n",
       "    .dataframe tbody tr th:only-of-type {\n",
       "        vertical-align: middle;\n",
       "    }\n",
       "\n",
       "    .dataframe tbody tr th {\n",
       "        vertical-align: top;\n",
       "    }\n",
       "\n",
       "    .dataframe thead th {\n",
       "        text-align: right;\n",
       "    }\n",
       "</style>\n",
       "<table border=\"1\" class=\"dataframe\">\n",
       "  <thead>\n",
       "    <tr style=\"text-align: right;\">\n",
       "      <th></th>\n",
       "      <th>Actual Value</th>\n",
       "      <th>Predicted Value</th>\n",
       "      <th>Difference</th>\n",
       "    </tr>\n",
       "  </thead>\n",
       "  <tbody>\n",
       "    <tr>\n",
       "      <th>6252</th>\n",
       "      <td>94</td>\n",
       "      <td>92.51</td>\n",
       "      <td>1.49</td>\n",
       "    </tr>\n",
       "    <tr>\n",
       "      <th>4684</th>\n",
       "      <td>46</td>\n",
       "      <td>45.72</td>\n",
       "      <td>0.28</td>\n",
       "    </tr>\n",
       "    <tr>\n",
       "      <th>1731</th>\n",
       "      <td>56</td>\n",
       "      <td>58.97</td>\n",
       "      <td>-2.97</td>\n",
       "    </tr>\n",
       "    <tr>\n",
       "      <th>4742</th>\n",
       "      <td>81</td>\n",
       "      <td>79.35</td>\n",
       "      <td>1.65</td>\n",
       "    </tr>\n",
       "    <tr>\n",
       "      <th>4521</th>\n",
       "      <td>68</td>\n",
       "      <td>63.58</td>\n",
       "      <td>4.42</td>\n",
       "    </tr>\n",
       "    <tr>\n",
       "      <th>...</th>\n",
       "      <td>...</td>\n",
       "      <td>...</td>\n",
       "      <td>...</td>\n",
       "    </tr>\n",
       "    <tr>\n",
       "      <th>6412</th>\n",
       "      <td>98</td>\n",
       "      <td>96.27</td>\n",
       "      <td>1.73</td>\n",
       "    </tr>\n",
       "    <tr>\n",
       "      <th>8285</th>\n",
       "      <td>82</td>\n",
       "      <td>80.04</td>\n",
       "      <td>1.96</td>\n",
       "    </tr>\n",
       "    <tr>\n",
       "      <th>7853</th>\n",
       "      <td>89</td>\n",
       "      <td>89.08</td>\n",
       "      <td>-0.08</td>\n",
       "    </tr>\n",
       "    <tr>\n",
       "      <th>1095</th>\n",
       "      <td>96</td>\n",
       "      <td>93.29</td>\n",
       "      <td>2.71</td>\n",
       "    </tr>\n",
       "    <tr>\n",
       "      <th>6929</th>\n",
       "      <td>44</td>\n",
       "      <td>46.72</td>\n",
       "      <td>-2.72</td>\n",
       "    </tr>\n",
       "  </tbody>\n",
       "</table>\n",
       "<p>2000 rows × 3 columns</p>\n",
       "</div>"
      ],
      "text/plain": [
       "      Actual Value  Predicted Value  Difference\n",
       "6252            94            92.51        1.49\n",
       "4684            46            45.72        0.28\n",
       "1731            56            58.97       -2.97\n",
       "4742            81            79.35        1.65\n",
       "4521            68            63.58        4.42\n",
       "...            ...              ...         ...\n",
       "6412            98            96.27        1.73\n",
       "8285            82            80.04        1.96\n",
       "7853            89            89.08       -0.08\n",
       "1095            96            93.29        2.71\n",
       "6929            44            46.72       -2.72\n",
       "\n",
       "[2000 rows x 3 columns]"
      ]
     },
     "execution_count": 90,
     "metadata": {},
     "output_type": "execute_result"
    }
   ],
   "source": [
    "pred_df=pd.DataFrame({'Actual Value':y_test,'Predicted Value':y_pred,'Difference':y_test-y_pred})\n",
    "pred_df"
   ]
  },
  {
   "cell_type": "code",
   "execution_count": null,
   "metadata": {},
   "outputs": [],
   "source": []
  },
  {
   "cell_type": "markdown",
   "metadata": {},
   "source": [
    "### Machine Learning Model: Decision Tree"
   ]
  },
  {
   "cell_type": "code",
   "execution_count": 52,
   "metadata": {},
   "outputs": [],
   "source": [
    "X= df.drop(columns=['Final_Grade'],axis = 1)\n",
    "y = df['Final_Grade']\n",
    "encoder = LabelEncoder()\n",
    "categorical_col = X.select_dtypes(include=['object']).columns.tolist()\n",
    "for col in categorical_col:\n",
    "    X[col] = encoder.fit_transform(X[col])\n",
    "\n",
    "# Split the data into training and testing sets (80/20 split)\n",
    "X_train, X_test, y_train, y_test = train_test_split(X, y, test_size=0.2, random_state=42)"
   ]
  },
  {
   "cell_type": "markdown",
   "metadata": {},
   "source": [
    "## Step 2: Train and visualize the decision tree"
   ]
  },
  {
   "cell_type": "code",
   "execution_count": 53,
   "metadata": {},
   "outputs": [
    {
     "data": {
      "text/html": [
       "<style>#sk-container-id-1 {\n",
       "  /* Definition of color scheme common for light and dark mode */\n",
       "  --sklearn-color-text: black;\n",
       "  --sklearn-color-line: gray;\n",
       "  /* Definition of color scheme for unfitted estimators */\n",
       "  --sklearn-color-unfitted-level-0: #fff5e6;\n",
       "  --sklearn-color-unfitted-level-1: #f6e4d2;\n",
       "  --sklearn-color-unfitted-level-2: #ffe0b3;\n",
       "  --sklearn-color-unfitted-level-3: chocolate;\n",
       "  /* Definition of color scheme for fitted estimators */\n",
       "  --sklearn-color-fitted-level-0: #f0f8ff;\n",
       "  --sklearn-color-fitted-level-1: #d4ebff;\n",
       "  --sklearn-color-fitted-level-2: #b3dbfd;\n",
       "  --sklearn-color-fitted-level-3: cornflowerblue;\n",
       "\n",
       "  /* Specific color for light theme */\n",
       "  --sklearn-color-text-on-default-background: var(--sg-text-color, var(--theme-code-foreground, var(--jp-content-font-color1, black)));\n",
       "  --sklearn-color-background: var(--sg-background-color, var(--theme-background, var(--jp-layout-color0, white)));\n",
       "  --sklearn-color-border-box: var(--sg-text-color, var(--theme-code-foreground, var(--jp-content-font-color1, black)));\n",
       "  --sklearn-color-icon: #696969;\n",
       "\n",
       "  @media (prefers-color-scheme: dark) {\n",
       "    /* Redefinition of color scheme for dark theme */\n",
       "    --sklearn-color-text-on-default-background: var(--sg-text-color, var(--theme-code-foreground, var(--jp-content-font-color1, white)));\n",
       "    --sklearn-color-background: var(--sg-background-color, var(--theme-background, var(--jp-layout-color0, #111)));\n",
       "    --sklearn-color-border-box: var(--sg-text-color, var(--theme-code-foreground, var(--jp-content-font-color1, white)));\n",
       "    --sklearn-color-icon: #878787;\n",
       "  }\n",
       "}\n",
       "\n",
       "#sk-container-id-1 {\n",
       "  color: var(--sklearn-color-text);\n",
       "}\n",
       "\n",
       "#sk-container-id-1 pre {\n",
       "  padding: 0;\n",
       "}\n",
       "\n",
       "#sk-container-id-1 input.sk-hidden--visually {\n",
       "  border: 0;\n",
       "  clip: rect(1px 1px 1px 1px);\n",
       "  clip: rect(1px, 1px, 1px, 1px);\n",
       "  height: 1px;\n",
       "  margin: -1px;\n",
       "  overflow: hidden;\n",
       "  padding: 0;\n",
       "  position: absolute;\n",
       "  width: 1px;\n",
       "}\n",
       "\n",
       "#sk-container-id-1 div.sk-dashed-wrapped {\n",
       "  border: 1px dashed var(--sklearn-color-line);\n",
       "  margin: 0 0.4em 0.5em 0.4em;\n",
       "  box-sizing: border-box;\n",
       "  padding-bottom: 0.4em;\n",
       "  background-color: var(--sklearn-color-background);\n",
       "}\n",
       "\n",
       "#sk-container-id-1 div.sk-container {\n",
       "  /* jupyter's `normalize.less` sets `[hidden] { display: none; }`\n",
       "     but bootstrap.min.css set `[hidden] { display: none !important; }`\n",
       "     so we also need the `!important` here to be able to override the\n",
       "     default hidden behavior on the sphinx rendered scikit-learn.org.\n",
       "     See: https://github.com/scikit-learn/scikit-learn/issues/21755 */\n",
       "  display: inline-block !important;\n",
       "  position: relative;\n",
       "}\n",
       "\n",
       "#sk-container-id-1 div.sk-text-repr-fallback {\n",
       "  display: none;\n",
       "}\n",
       "\n",
       "div.sk-parallel-item,\n",
       "div.sk-serial,\n",
       "div.sk-item {\n",
       "  /* draw centered vertical line to link estimators */\n",
       "  background-image: linear-gradient(var(--sklearn-color-text-on-default-background), var(--sklearn-color-text-on-default-background));\n",
       "  background-size: 2px 100%;\n",
       "  background-repeat: no-repeat;\n",
       "  background-position: center center;\n",
       "}\n",
       "\n",
       "/* Parallel-specific style estimator block */\n",
       "\n",
       "#sk-container-id-1 div.sk-parallel-item::after {\n",
       "  content: \"\";\n",
       "  width: 100%;\n",
       "  border-bottom: 2px solid var(--sklearn-color-text-on-default-background);\n",
       "  flex-grow: 1;\n",
       "}\n",
       "\n",
       "#sk-container-id-1 div.sk-parallel {\n",
       "  display: flex;\n",
       "  align-items: stretch;\n",
       "  justify-content: center;\n",
       "  background-color: var(--sklearn-color-background);\n",
       "  position: relative;\n",
       "}\n",
       "\n",
       "#sk-container-id-1 div.sk-parallel-item {\n",
       "  display: flex;\n",
       "  flex-direction: column;\n",
       "}\n",
       "\n",
       "#sk-container-id-1 div.sk-parallel-item:first-child::after {\n",
       "  align-self: flex-end;\n",
       "  width: 50%;\n",
       "}\n",
       "\n",
       "#sk-container-id-1 div.sk-parallel-item:last-child::after {\n",
       "  align-self: flex-start;\n",
       "  width: 50%;\n",
       "}\n",
       "\n",
       "#sk-container-id-1 div.sk-parallel-item:only-child::after {\n",
       "  width: 0;\n",
       "}\n",
       "\n",
       "/* Serial-specific style estimator block */\n",
       "\n",
       "#sk-container-id-1 div.sk-serial {\n",
       "  display: flex;\n",
       "  flex-direction: column;\n",
       "  align-items: center;\n",
       "  background-color: var(--sklearn-color-background);\n",
       "  padding-right: 1em;\n",
       "  padding-left: 1em;\n",
       "}\n",
       "\n",
       "\n",
       "/* Toggleable style: style used for estimator/Pipeline/ColumnTransformer box that is\n",
       "clickable and can be expanded/collapsed.\n",
       "- Pipeline and ColumnTransformer use this feature and define the default style\n",
       "- Estimators will overwrite some part of the style using the `sk-estimator` class\n",
       "*/\n",
       "\n",
       "/* Pipeline and ColumnTransformer style (default) */\n",
       "\n",
       "#sk-container-id-1 div.sk-toggleable {\n",
       "  /* Default theme specific background. It is overwritten whether we have a\n",
       "  specific estimator or a Pipeline/ColumnTransformer */\n",
       "  background-color: var(--sklearn-color-background);\n",
       "}\n",
       "\n",
       "/* Toggleable label */\n",
       "#sk-container-id-1 label.sk-toggleable__label {\n",
       "  cursor: pointer;\n",
       "  display: block;\n",
       "  width: 100%;\n",
       "  margin-bottom: 0;\n",
       "  padding: 0.5em;\n",
       "  box-sizing: border-box;\n",
       "  text-align: center;\n",
       "}\n",
       "\n",
       "#sk-container-id-1 label.sk-toggleable__label-arrow:before {\n",
       "  /* Arrow on the left of the label */\n",
       "  content: \"▸\";\n",
       "  float: left;\n",
       "  margin-right: 0.25em;\n",
       "  color: var(--sklearn-color-icon);\n",
       "}\n",
       "\n",
       "#sk-container-id-1 label.sk-toggleable__label-arrow:hover:before {\n",
       "  color: var(--sklearn-color-text);\n",
       "}\n",
       "\n",
       "/* Toggleable content - dropdown */\n",
       "\n",
       "#sk-container-id-1 div.sk-toggleable__content {\n",
       "  max-height: 0;\n",
       "  max-width: 0;\n",
       "  overflow: hidden;\n",
       "  text-align: left;\n",
       "  /* unfitted */\n",
       "  background-color: var(--sklearn-color-unfitted-level-0);\n",
       "}\n",
       "\n",
       "#sk-container-id-1 div.sk-toggleable__content.fitted {\n",
       "  /* fitted */\n",
       "  background-color: var(--sklearn-color-fitted-level-0);\n",
       "}\n",
       "\n",
       "#sk-container-id-1 div.sk-toggleable__content pre {\n",
       "  margin: 0.2em;\n",
       "  border-radius: 0.25em;\n",
       "  color: var(--sklearn-color-text);\n",
       "  /* unfitted */\n",
       "  background-color: var(--sklearn-color-unfitted-level-0);\n",
       "}\n",
       "\n",
       "#sk-container-id-1 div.sk-toggleable__content.fitted pre {\n",
       "  /* unfitted */\n",
       "  background-color: var(--sklearn-color-fitted-level-0);\n",
       "}\n",
       "\n",
       "#sk-container-id-1 input.sk-toggleable__control:checked~div.sk-toggleable__content {\n",
       "  /* Expand drop-down */\n",
       "  max-height: 200px;\n",
       "  max-width: 100%;\n",
       "  overflow: auto;\n",
       "}\n",
       "\n",
       "#sk-container-id-1 input.sk-toggleable__control:checked~label.sk-toggleable__label-arrow:before {\n",
       "  content: \"▾\";\n",
       "}\n",
       "\n",
       "/* Pipeline/ColumnTransformer-specific style */\n",
       "\n",
       "#sk-container-id-1 div.sk-label input.sk-toggleable__control:checked~label.sk-toggleable__label {\n",
       "  color: var(--sklearn-color-text);\n",
       "  background-color: var(--sklearn-color-unfitted-level-2);\n",
       "}\n",
       "\n",
       "#sk-container-id-1 div.sk-label.fitted input.sk-toggleable__control:checked~label.sk-toggleable__label {\n",
       "  background-color: var(--sklearn-color-fitted-level-2);\n",
       "}\n",
       "\n",
       "/* Estimator-specific style */\n",
       "\n",
       "/* Colorize estimator box */\n",
       "#sk-container-id-1 div.sk-estimator input.sk-toggleable__control:checked~label.sk-toggleable__label {\n",
       "  /* unfitted */\n",
       "  background-color: var(--sklearn-color-unfitted-level-2);\n",
       "}\n",
       "\n",
       "#sk-container-id-1 div.sk-estimator.fitted input.sk-toggleable__control:checked~label.sk-toggleable__label {\n",
       "  /* fitted */\n",
       "  background-color: var(--sklearn-color-fitted-level-2);\n",
       "}\n",
       "\n",
       "#sk-container-id-1 div.sk-label label.sk-toggleable__label,\n",
       "#sk-container-id-1 div.sk-label label {\n",
       "  /* The background is the default theme color */\n",
       "  color: var(--sklearn-color-text-on-default-background);\n",
       "}\n",
       "\n",
       "/* On hover, darken the color of the background */\n",
       "#sk-container-id-1 div.sk-label:hover label.sk-toggleable__label {\n",
       "  color: var(--sklearn-color-text);\n",
       "  background-color: var(--sklearn-color-unfitted-level-2);\n",
       "}\n",
       "\n",
       "/* Label box, darken color on hover, fitted */\n",
       "#sk-container-id-1 div.sk-label.fitted:hover label.sk-toggleable__label.fitted {\n",
       "  color: var(--sklearn-color-text);\n",
       "  background-color: var(--sklearn-color-fitted-level-2);\n",
       "}\n",
       "\n",
       "/* Estimator label */\n",
       "\n",
       "#sk-container-id-1 div.sk-label label {\n",
       "  font-family: monospace;\n",
       "  font-weight: bold;\n",
       "  display: inline-block;\n",
       "  line-height: 1.2em;\n",
       "}\n",
       "\n",
       "#sk-container-id-1 div.sk-label-container {\n",
       "  text-align: center;\n",
       "}\n",
       "\n",
       "/* Estimator-specific */\n",
       "#sk-container-id-1 div.sk-estimator {\n",
       "  font-family: monospace;\n",
       "  border: 1px dotted var(--sklearn-color-border-box);\n",
       "  border-radius: 0.25em;\n",
       "  box-sizing: border-box;\n",
       "  margin-bottom: 0.5em;\n",
       "  /* unfitted */\n",
       "  background-color: var(--sklearn-color-unfitted-level-0);\n",
       "}\n",
       "\n",
       "#sk-container-id-1 div.sk-estimator.fitted {\n",
       "  /* fitted */\n",
       "  background-color: var(--sklearn-color-fitted-level-0);\n",
       "}\n",
       "\n",
       "/* on hover */\n",
       "#sk-container-id-1 div.sk-estimator:hover {\n",
       "  /* unfitted */\n",
       "  background-color: var(--sklearn-color-unfitted-level-2);\n",
       "}\n",
       "\n",
       "#sk-container-id-1 div.sk-estimator.fitted:hover {\n",
       "  /* fitted */\n",
       "  background-color: var(--sklearn-color-fitted-level-2);\n",
       "}\n",
       "\n",
       "/* Specification for estimator info (e.g. \"i\" and \"?\") */\n",
       "\n",
       "/* Common style for \"i\" and \"?\" */\n",
       "\n",
       ".sk-estimator-doc-link,\n",
       "a:link.sk-estimator-doc-link,\n",
       "a:visited.sk-estimator-doc-link {\n",
       "  float: right;\n",
       "  font-size: smaller;\n",
       "  line-height: 1em;\n",
       "  font-family: monospace;\n",
       "  background-color: var(--sklearn-color-background);\n",
       "  border-radius: 1em;\n",
       "  height: 1em;\n",
       "  width: 1em;\n",
       "  text-decoration: none !important;\n",
       "  margin-left: 1ex;\n",
       "  /* unfitted */\n",
       "  border: var(--sklearn-color-unfitted-level-1) 1pt solid;\n",
       "  color: var(--sklearn-color-unfitted-level-1);\n",
       "}\n",
       "\n",
       ".sk-estimator-doc-link.fitted,\n",
       "a:link.sk-estimator-doc-link.fitted,\n",
       "a:visited.sk-estimator-doc-link.fitted {\n",
       "  /* fitted */\n",
       "  border: var(--sklearn-color-fitted-level-1) 1pt solid;\n",
       "  color: var(--sklearn-color-fitted-level-1);\n",
       "}\n",
       "\n",
       "/* On hover */\n",
       "div.sk-estimator:hover .sk-estimator-doc-link:hover,\n",
       ".sk-estimator-doc-link:hover,\n",
       "div.sk-label-container:hover .sk-estimator-doc-link:hover,\n",
       ".sk-estimator-doc-link:hover {\n",
       "  /* unfitted */\n",
       "  background-color: var(--sklearn-color-unfitted-level-3);\n",
       "  color: var(--sklearn-color-background);\n",
       "  text-decoration: none;\n",
       "}\n",
       "\n",
       "div.sk-estimator.fitted:hover .sk-estimator-doc-link.fitted:hover,\n",
       ".sk-estimator-doc-link.fitted:hover,\n",
       "div.sk-label-container:hover .sk-estimator-doc-link.fitted:hover,\n",
       ".sk-estimator-doc-link.fitted:hover {\n",
       "  /* fitted */\n",
       "  background-color: var(--sklearn-color-fitted-level-3);\n",
       "  color: var(--sklearn-color-background);\n",
       "  text-decoration: none;\n",
       "}\n",
       "\n",
       "/* Span, style for the box shown on hovering the info icon */\n",
       ".sk-estimator-doc-link span {\n",
       "  display: none;\n",
       "  z-index: 9999;\n",
       "  position: relative;\n",
       "  font-weight: normal;\n",
       "  right: .2ex;\n",
       "  padding: .5ex;\n",
       "  margin: .5ex;\n",
       "  width: min-content;\n",
       "  min-width: 20ex;\n",
       "  max-width: 50ex;\n",
       "  color: var(--sklearn-color-text);\n",
       "  box-shadow: 2pt 2pt 4pt #999;\n",
       "  /* unfitted */\n",
       "  background: var(--sklearn-color-unfitted-level-0);\n",
       "  border: .5pt solid var(--sklearn-color-unfitted-level-3);\n",
       "}\n",
       "\n",
       ".sk-estimator-doc-link.fitted span {\n",
       "  /* fitted */\n",
       "  background: var(--sklearn-color-fitted-level-0);\n",
       "  border: var(--sklearn-color-fitted-level-3);\n",
       "}\n",
       "\n",
       ".sk-estimator-doc-link:hover span {\n",
       "  display: block;\n",
       "}\n",
       "\n",
       "/* \"?\"-specific style due to the `<a>` HTML tag */\n",
       "\n",
       "#sk-container-id-1 a.estimator_doc_link {\n",
       "  float: right;\n",
       "  font-size: 1rem;\n",
       "  line-height: 1em;\n",
       "  font-family: monospace;\n",
       "  background-color: var(--sklearn-color-background);\n",
       "  border-radius: 1rem;\n",
       "  height: 1rem;\n",
       "  width: 1rem;\n",
       "  text-decoration: none;\n",
       "  /* unfitted */\n",
       "  color: var(--sklearn-color-unfitted-level-1);\n",
       "  border: var(--sklearn-color-unfitted-level-1) 1pt solid;\n",
       "}\n",
       "\n",
       "#sk-container-id-1 a.estimator_doc_link.fitted {\n",
       "  /* fitted */\n",
       "  border: var(--sklearn-color-fitted-level-1) 1pt solid;\n",
       "  color: var(--sklearn-color-fitted-level-1);\n",
       "}\n",
       "\n",
       "/* On hover */\n",
       "#sk-container-id-1 a.estimator_doc_link:hover {\n",
       "  /* unfitted */\n",
       "  background-color: var(--sklearn-color-unfitted-level-3);\n",
       "  color: var(--sklearn-color-background);\n",
       "  text-decoration: none;\n",
       "}\n",
       "\n",
       "#sk-container-id-1 a.estimator_doc_link.fitted:hover {\n",
       "  /* fitted */\n",
       "  background-color: var(--sklearn-color-fitted-level-3);\n",
       "}\n",
       "</style><div id=\"sk-container-id-1\" class=\"sk-top-container\"><div class=\"sk-text-repr-fallback\"><pre>DecisionTreeClassifier(max_depth=3, random_state=42)</pre><b>In a Jupyter environment, please rerun this cell to show the HTML representation or trust the notebook. <br />On GitHub, the HTML representation is unable to render, please try loading this page with nbviewer.org.</b></div><div class=\"sk-container\" hidden><div class=\"sk-item\"><div class=\"sk-estimator fitted sk-toggleable\"><input class=\"sk-toggleable__control sk-hidden--visually\" id=\"sk-estimator-id-1\" type=\"checkbox\" checked><label for=\"sk-estimator-id-1\" class=\"sk-toggleable__label fitted sk-toggleable__label-arrow fitted\">&nbsp;&nbsp;DecisionTreeClassifier<a class=\"sk-estimator-doc-link fitted\" rel=\"noreferrer\" target=\"_blank\" href=\"https://scikit-learn.org/1.5/modules/generated/sklearn.tree.DecisionTreeClassifier.html\">?<span>Documentation for DecisionTreeClassifier</span></a><span class=\"sk-estimator-doc-link fitted\">i<span>Fitted</span></span></label><div class=\"sk-toggleable__content fitted\"><pre>DecisionTreeClassifier(max_depth=3, random_state=42)</pre></div> </div></div></div></div>"
      ],
      "text/plain": [
       "DecisionTreeClassifier(max_depth=3, random_state=42)"
      ]
     },
     "execution_count": 53,
     "metadata": {},
     "output_type": "execute_result"
    }
   ],
   "source": [
    "clf = DecisionTreeClassifier(max_depth=3, random_state=42)\n",
    "clf.fit(X_train, y_train)"
   ]
  },
  {
   "cell_type": "markdown",
   "metadata": {},
   "source": [
    "## Step 3: Evaluate"
   ]
  },
  {
   "cell_type": "code",
   "execution_count": 54,
   "metadata": {},
   "outputs": [
    {
     "name": "stdout",
     "output_type": "stream",
     "text": [
      "Accuracy: 1.00\n"
     ]
    }
   ],
   "source": [
    "\n",
    "y_pred = clf.predict(X_test)\n",
    "print(f\"Accuracy: {accuracy_score(y_test, y_pred):.2f}\")"
   ]
  },
  {
   "cell_type": "markdown",
   "metadata": {},
   "source": [
    "### Visualize the tree"
   ]
  },
  {
   "cell_type": "code",
   "execution_count": 55,
   "metadata": {},
   "outputs": [
    {
     "data": {
      "image/png": "[encoded data removed]",
      "text/plain": [
       "<Figure size 1200x800 with 1 Axes>"
      ]
     },
     "metadata": {},
     "output_type": "display_data"
    }
   ],
   "source": [
    "\n",
    "# Ensure class_names matches unique classes in y\n",
    "class_labels = list(map(str, y.unique()))  # Convert class labels to strings\n",
    "\n",
    "plt.figure(figsize=(12, 8))\n",
    "plot_tree(clf, filled=True, feature_names=X.columns.tolist(), class_names=class_labels)\n",
    "plt.show()\n"
   ]
  }
 ],
 "metadata": {
  "kernelspec": {
   "display_name": "base",
   "language": "python",
   "name": "python3"
  },
  "language_info": {
   "codemirror_mode": {
    "name": "ipython",
    "version": 3
   },
   "file_extension": ".py",
   "mimetype": "text/x-python",
   "name": "python",
   "nbconvert_exporter": "python",
   "pygments_lexer": "ipython3",
   "version": "3.12.7"
  }
 },
 "nbformat": 4,
 "nbformat_minor": 2
}
